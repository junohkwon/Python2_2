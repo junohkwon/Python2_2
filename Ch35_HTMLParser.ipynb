{
 "cells": [
  {
   "cell_type": "code",
   "execution_count": 1,
   "metadata": {},
   "outputs": [],
   "source": [
    "from bs4 import BeautifulSoup\n",
    "import pandas as pd\n",
    "import numpy as np\n",
    "import matplotlib.pyplot as plt"
   ]
  },
  {
   "cell_type": "code",
   "execution_count": 2,
   "metadata": {},
   "outputs": [],
   "source": [
    "with open('html_doc.html') as fp:\n",
    "    soup = BeautifulSoup(fp, 'html.parser')"
   ]
  },
  {
   "cell_type": "code",
   "execution_count": 3,
   "metadata": {},
   "outputs": [
    {
     "data": {
      "text/plain": [
       "[<a class=\"sister\" href=\"http://example.com/elsie\" id=\"link1\">Elsie</a>,\n",
       " <a class=\"sister\" href=\"http://example.com/lacie\" id=\"link2\">Lacie</a>,\n",
       " <a class=\"sister\" href=\"http://example.com/tillie\" id=\"link3\">Tillie</a>]"
      ]
     },
     "execution_count": 3,
     "metadata": {},
     "output_type": "execute_result"
    }
   ],
   "source": [
    "soup.find_all('a')"
   ]
  },
  {
   "cell_type": "code",
   "execution_count": 4,
   "metadata": {
    "scrolled": true
   },
   "outputs": [
    {
     "data": {
      "text/plain": [
       "[<p class=\"title\"><b>The Dormouse's story</b></p>,\n",
       " <p class=\"story\">Once upon a time there we three little sisters; and their names were \n",
       "         <a class=\"sister\" href=\"http://example.com/elsie\" id=\"link1\">Elsie</a>, \n",
       "         <a class=\"sister\" href=\"http://example.com/lacie\" id=\"link2\">Lacie</a> and \n",
       "         <a class=\"sister\" href=\"http://example.com/tillie\" id=\"link3\">Tillie</a>; \n",
       "          and they liveed at the bottom of a well.</p>,\n",
       " <p class=\"story\">...</p>]"
      ]
     },
     "execution_count": 4,
     "metadata": {},
     "output_type": "execute_result"
    }
   ],
   "source": [
    "soup.find_all('p')"
   ]
  },
  {
   "cell_type": "code",
   "execution_count": 5,
   "metadata": {},
   "outputs": [
    {
     "data": {
      "text/plain": [
       "<p class=\"story\">Once upon a time there we three little sisters; and their names were \n",
       "        <a class=\"sister\" href=\"http://example.com/elsie\" id=\"link1\">Elsie</a>, \n",
       "        <a class=\"sister\" href=\"http://example.com/lacie\" id=\"link2\">Lacie</a> and \n",
       "        <a class=\"sister\" href=\"http://example.com/tillie\" id=\"link3\">Tillie</a>; \n",
       "         and they liveed at the bottom of a well.</p>"
      ]
     },
     "execution_count": 5,
     "metadata": {},
     "output_type": "execute_result"
    }
   ],
   "source": [
    "soup.a.parent"
   ]
  },
  {
   "cell_type": "code",
   "execution_count": 13,
   "metadata": {},
   "outputs": [
    {
     "data": {
      "text/plain": [
       "[<a class=\"sister\" href=\"http://example.com/elsie\" id=\"link1\">Elsie</a>,\n",
       " <a class=\"sister\" href=\"http://example.com/lacie\" id=\"link2\">Lacie</a>]"
      ]
     },
     "execution_count": 13,
     "metadata": {},
     "output_type": "execute_result"
    }
   ],
   "source": [
    "soup.find_all('a', limit=2)"
   ]
  },
  {
   "cell_type": "code",
   "execution_count": 14,
   "metadata": {},
   "outputs": [
    {
     "data": {
      "text/plain": [
       "<a class=\"sister\" href=\"http://example.com/elsie\" id=\"link1\">Elsie</a>"
      ]
     },
     "execution_count": 14,
     "metadata": {},
     "output_type": "execute_result"
    }
   ],
   "source": [
    "soup.find('a')"
   ]
  },
  {
   "cell_type": "code",
   "execution_count": 15,
   "metadata": {
    "collapsed": true
   },
   "outputs": [
    {
     "name": "stdout",
     "output_type": "stream",
     "text": [
      "<a class=\"sister\" href=\"http://example.com/elsie\" id=\"link1\">Elsie</a>\n",
      "<a class=\"sister\" href=\"http://example.com/lacie\" id=\"link2\">Lacie</a>\n",
      "<a class=\"sister\" href=\"http://example.com/tillie\" id=\"link3\">Tillie</a>\n"
     ]
    }
   ],
   "source": [
    "for text in soup.find_all('a'):\n",
    "    print(text)"
   ]
  },
  {
   "cell_type": "code",
   "execution_count": 6,
   "metadata": {
    "scrolled": true
   },
   "outputs": [
    {
     "name": "stdout",
     "output_type": "stream",
     "text": [
      "癤퓀tml_doc = \"\"\"\n",
      "<html>\n",
      " <head>\n",
      "  <title>\n",
      "   The Dormouse's story\n",
      "  </title>\n",
      " </head>\n",
      " <body>\n",
      "  <p class=\"title\">\n",
      "   <b>\n",
      "    The Dormouse's story\n",
      "   </b>\n",
      "  </p>\n",
      "  <p class=\"story\">\n",
      "   Once upon a time there we three little sisters; and their names were\n",
      "   <a class=\"sister\" href=\"http://example.com/elsie\" id=\"link1\">\n",
      "    Elsie\n",
      "   </a>\n",
      "   ,\n",
      "   <a class=\"sister\" href=\"http://example.com/lacie\" id=\"link2\">\n",
      "    Lacie\n",
      "   </a>\n",
      "   and\n",
      "   <a class=\"sister\" href=\"http://example.com/tillie\" id=\"link3\">\n",
      "    Tillie\n",
      "   </a>\n",
      "   ; \n",
      "         and they liveed at the bottom of a well.\n",
      "  </p>\n",
      "  <p class=\"story\">\n",
      "   ...\n",
      "  </p>\n",
      "  \"\"\"\n",
      " </body>\n",
      "</html>\n"
     ]
    }
   ],
   "source": [
    "print(soup.prettify())"
   ]
  },
  {
   "cell_type": "code",
   "execution_count": 17,
   "metadata": {},
   "outputs": [],
   "source": [
    "import requests\n",
    "\n",
    "r = requests.get('https://cse.snu.ac.kr/research/labs')"
   ]
  },
  {
   "cell_type": "code",
   "execution_count": 21,
   "metadata": {},
   "outputs": [],
   "source": [
    "page = BeautifulSoup(r.text, 'html.parser')"
   ]
  },
  {
   "cell_type": "code",
   "execution_count": 24,
   "metadata": {},
   "outputs": [
    {
     "data": {
      "text/plain": [
       "<div id=\"content\"><div class=\"section clearfix2\">\n",
       "<div id=\"content-title-bar\">\n",
       "<div class=\"content-title\">\n",
       "<h1 class=\"title\" id=\"page-title\">연구실 목록</h1>\n",
       "</div>\n",
       "<div class=\"bar-aside\">\n",
       "</div>\n",
       "</div><!--/#content-title-bar-->\n",
       "<a id=\"main-content\"></a>\n",
       "<div class=\"region region-content\">\n",
       "<div class=\"block block-system first last odd\" id=\"block-system-main\">\n",
       "<div class=\"content\">\n",
       "<div class=\"view view-research-labs view-id-research_labs view-display-id-page view-dom-id-fbdb800e07e0c23ca70446b566082099\">\n",
       "<div class=\"view-content\">\n",
       "<table class=\"views-table cols-4\">\n",
       "<thead>\n",
       "<tr>\n",
       "<th class=\"views-field views-field-title\">\n",
       "            연구실          </th>\n",
       "<th class=\"views-field views-field-field-faculty\">\n",
       "            지도교수          </th>\n",
       "<th class=\"views-field views-field-field-office\">\n",
       "            연구실위치          </th>\n",
       "<th class=\"views-field views-field-field-abbreviation\">\n",
       "            약자          </th>\n",
       "</tr>\n",
       "</thead>\n",
       "<tbody>\n",
       "<tr class=\"odd views-row-first\">\n",
       "<td class=\"views-field views-field-title\">\n",
       "<a href=\"/lab/3%EC%B0%A8%EC%9B%90-%EB%AA%A8%EB%8D%B8%EB%A7%81-%EB%B0%8F-%EC%B2%98%EB%A6%AC-%EC%97%B0%EA%B5%AC%EC%8B%A4\">3차원 모델링 및 처리 연구실</a> </td>\n",
       "<td class=\"views-field views-field-field-faculty\">\n",
       "<a href=\"/professor/%EA%B9%80%EB%AA%85%EC%88%98\">김명수</a> </td>\n",
       "<td class=\"views-field views-field-field-office\">\n",
       "            302동 315-1호<br/>(02) 880-1840          </td>\n",
       "<td class=\"views-field views-field-field-abbreviation\">\n",
       "            3MAP          </td>\n",
       "</tr>\n",
       "<tr class=\"even\">\n",
       "<td class=\"views-field views-field-title\">\n",
       "<a href=\"/lab/%EA%B3%84%EC%82%B0-%EC%9D%B4%EB%A1%A0-%EB%B0%8F-%EC%95%8C%EA%B3%A0%EB%A6%AC%EC%A6%98-%EA%B3%B5%ED%95%99-%EC%97%B0%EA%B5%AC%EC%8B%A4\">계산 이론 및 알고리즘 공학 연구실</a> </td>\n",
       "<td class=\"views-field views-field-field-faculty\">\n",
       "<a href=\"/professor/%EC%8A%A4%EB%A6%AC%EB%8B%88%EB%B0%94%EC%82%AC-%EB%9D%BC%EC%98%A4-%EC%82%AC%ED%8B%B0\">스리니바사 라오 사티</a> </td>\n",
       "<td class=\"views-field views-field-field-office\">\n",
       "            301동 412호<br/>(02) 880-1805          </td>\n",
       "<td class=\"views-field views-field-field-abbreviation\">\n",
       "            TCS          </td>\n",
       "</tr>\n",
       "<tr class=\"odd\">\n",
       "<td class=\"views-field views-field-title\">\n",
       "<a href=\"/lab/%EB%8D%B0%EC%9D%B4%ED%84%B0-%EB%A7%88%EC%9D%B4%EB%8B%9D-%EC%97%B0%EA%B5%AC%EC%8B%A4\">데이터 마이닝 연구실</a> </td>\n",
       "<td class=\"views-field views-field-field-faculty\">\n",
       "<a href=\"/professor/%EA%B0%95%EC%9C%A0\">강유</a> </td>\n",
       "<td class=\"views-field views-field-field-office\">\n",
       "            301동 519호<br/>(02) 880-7263          </td>\n",
       "<td class=\"views-field views-field-field-abbreviation\">\n",
       "            DM          </td>\n",
       "</tr>\n",
       "<tr class=\"even\">\n",
       "<td class=\"views-field views-field-title\">\n",
       "<a href=\"/lab/%EB%8D%B0%EC%9D%B4%ED%84%B0%EB%B2%A0%EC%9D%B4%EC%8A%A4-%EC%8B%9C%EC%8A%A4%ED%85%9C-%EC%97%B0%EA%B5%AC%EC%8B%A4\">데이터베이스 시스템 연구실</a> </td>\n",
       "<td class=\"views-field views-field-field-faculty\">\n",
       "<a href=\"/professor/%EB%AC%B8%EB%B4%89%EA%B8%B0\">문봉기</a> </td>\n",
       "<td class=\"views-field views-field-field-office\">\n",
       "            301동 418호 / 452-2호<br/>(02) 880-6575          </td>\n",
       "<td class=\"views-field views-field-field-abbreviation\">\n",
       "            DBS          </td>\n",
       "</tr>\n",
       "<tr class=\"odd\">\n",
       "<td class=\"views-field views-field-title\">\n",
       "<a href=\"/lab/%EB%A8%B8%EC%8B%A0%EB%9F%AC%EB%8B%9D-%EC%97%B0%EA%B5%AC%EC%8B%A4\">머신러닝 연구실</a> </td>\n",
       "<td class=\"views-field views-field-field-faculty\">\n",
       "<a href=\"/professor/%EC%86%A1%ED%98%84%EC%98%A4\">송현오</a> </td>\n",
       "<td class=\"views-field views-field-field-office\">\n",
       "            944-A동 8층 (삼성 연구동)<br/> </td>\n",
       "<td class=\"views-field views-field-field-abbreviation\">\n",
       "            ML          </td>\n",
       "</tr>\n",
       "<tr class=\"even\">\n",
       "<td class=\"views-field views-field-title\">\n",
       "<a href=\"/lab/%EB%A9%80%ED%8B%B0%EC%BD%94%EC%96%B4-%EC%BB%B4%ED%93%A8%ED%8C%85-%EC%97%B0%EA%B5%AC%EC%8B%A4\">멀티코어 컴퓨팅 연구실</a> </td>\n",
       "<td class=\"views-field views-field-field-faculty\">\n",
       "<a href=\"/professor/%EC%9D%B4%EC%9E%AC%EC%A7%84\">이재진</a> </td>\n",
       "<td class=\"views-field views-field-field-office\">\n",
       "            301동 515호<br/>(02) 880-1837          </td>\n",
       "<td class=\"views-field views-field-field-abbreviation\">\n",
       "            MCRL          </td>\n",
       "</tr>\n",
       "<tr class=\"odd\">\n",
       "<td class=\"views-field views-field-title\">\n",
       "<a href=\"/lab/%EB%A9%94%EB%AA%A8%EB%A6%AC-%EB%B0%8F-%EC%8A%A4%ED%86%A0%EB%A6%AC%EC%A7%80-%EA%B5%AC%EC%A1%B0-%EC%97%B0%EA%B5%AC%EC%8B%A4\">메모리 및 스토리지 구조 연구실</a> </td>\n",
       "<td class=\"views-field views-field-field-faculty\">\n",
       "<a href=\"/professor/%EB%AF%BC%EC%83%81%EB%A0%AC\">민상렬</a> </td>\n",
       "<td class=\"views-field views-field-field-office\">\n",
       "            301동 552호 / 517호<br/>(02) 880-7296          </td>\n",
       "<td class=\"views-field views-field-field-abbreviation\">\n",
       "            ARCHI          </td>\n",
       "</tr>\n",
       "<tr class=\"even\">\n",
       "<td class=\"views-field views-field-title\">\n",
       "<a href=\"/lab/%EB%B0%94%EC%9D%B4%EC%98%A4%EC%A7%80%EB%8A%A5-%EC%97%B0%EA%B5%AC%EC%8B%A4\">바이오지능 연구실</a> </td>\n",
       "<td class=\"views-field views-field-field-faculty\">\n",
       "<a href=\"/professor/%EC%9E%A5%EB%B3%91%ED%83%81\">장병탁</a> </td>\n",
       "<td class=\"views-field views-field-field-office\">\n",
       "            302동 314-1호<br/>(02) 880-1835          </td>\n",
       "<td class=\"views-field views-field-field-abbreviation\">\n",
       "            BI          </td>\n",
       "</tr>\n",
       "<tr class=\"odd\">\n",
       "<td class=\"views-field views-field-title\">\n",
       "<a href=\"/lab/%EB%B6%84%EC%82%B0%EC%8B%9C%EC%8A%A4%ED%85%9C-%EC%97%B0%EA%B5%AC%EC%8B%A4\">분산시스템 연구실</a> </td>\n",
       "<td class=\"views-field views-field-field-faculty\">\n",
       "<a href=\"/professor/%EC%97%BC%ED%97%8C%EC%98%81\">염헌영</a>, <a href=\"/professor/%EC%97%84%ED%98%84%EC%83%81\">엄현상</a> </td>\n",
       "<td class=\"views-field views-field-field-office\">\n",
       "            302동 311-2호 / 319-1호<br/>(02) 880-1856          </td>\n",
       "<td class=\"views-field views-field-field-abbreviation\">\n",
       "            DCS           </td>\n",
       "</tr>\n",
       "<tr class=\"even\">\n",
       "<td class=\"views-field views-field-title\">\n",
       "<a href=\"/lab/%EC%83%9D%EB%AC%BC%EC%A0%95%EB%B3%B4-%EB%B0%8F-%EC%83%9D%EB%AA%85%EC%A0%95%EB%B3%B4-%EC%97%B0%EA%B5%AC%EC%8B%A4\">생물정보 및 생명정보 연구실</a> </td>\n",
       "<td class=\"views-field views-field-field-faculty\">\n",
       "<a href=\"/professor/%EA%B9%80%EC%84%A0\">김선</a> </td>\n",
       "<td class=\"views-field views-field-field-office\">\n",
       "            301동 516호<br/>(02) 880-1784          </td>\n",
       "<td class=\"views-field views-field-field-abbreviation\">\n",
       "            BHI          </td>\n",
       "</tr>\n",
       "<tr class=\"odd\">\n",
       "<td class=\"views-field views-field-title\">\n",
       "<a href=\"/lab/%EC%86%8C%EC%85%9C%EC%A0%95%EB%B3%B4%EB%A7%9D-%EC%97%B0%EA%B5%AC%EC%8B%A4\">소셜정보망 연구실</a> </td>\n",
       "<td class=\"views-field views-field-field-faculty\">\n",
       "<a href=\"/professor/%EA%B9%80%EC%A2%85%EA%B6%8C\">김종권</a> </td>\n",
       "<td class=\"views-field views-field-field-office\">\n",
       "            302동 310-1호<br/>(02) 880-1858          </td>\n",
       "<td class=\"views-field views-field-field-abbreviation\">\n",
       "            SCONE          </td>\n",
       "</tr>\n",
       "<tr class=\"even\">\n",
       "<td class=\"views-field views-field-title\">\n",
       "<a href=\"/lab/%EC%86%8C%ED%94%84%ED%8A%B8%EC%9B%A8%EC%96%B4-%EC%9B%90%EB%A6%AC-%EC%97%B0%EA%B5%AC%EC%8B%A4\">소프트웨어 원리 연구실</a> </td>\n",
       "<td class=\"views-field views-field-field-faculty\">\n",
       "<a href=\"/professor/%ED%97%88%EC%B6%A9%EA%B8%B8\">허충길</a> </td>\n",
       "<td class=\"views-field views-field-field-office\">\n",
       "            302동 312-2호<br/>(02) 880-4165          </td>\n",
       "<td class=\"views-field views-field-field-abbreviation\">\n",
       "            SF          </td>\n",
       "</tr>\n",
       "<tr class=\"odd\">\n",
       "<td class=\"views-field views-field-title\">\n",
       "<a href=\"/lab/%EC%86%8C%ED%94%84%ED%8A%B8%EC%9B%A8%EC%96%B4-%ED%94%8C%EB%9E%AB%ED%8F%BC-%EC%97%B0%EA%B5%AC%EC%8B%A4\">소프트웨어 플랫폼 연구실</a> </td>\n",
       "<td class=\"views-field views-field-field-faculty\">\n",
       "<a href=\"/professor/%EC%A0%84%EB%B3%91%EA%B3%A4\">전병곤</a> </td>\n",
       "<td class=\"views-field views-field-field-office\">\n",
       "            302동 420호<br/>02) 880-1611          </td>\n",
       "<td class=\"views-field views-field-field-abbreviation\">\n",
       "            SPL          </td>\n",
       "</tr>\n",
       "<tr class=\"even\">\n",
       "<td class=\"views-field views-field-title\">\n",
       "<a href=\"/lab/%EC%8B%9C%EA%B0%81-%EB%B0%8F-%ED%95%99%EC%8A%B5-%EC%97%B0%EA%B5%AC%EC%8B%A4\">시각 및 학습 연구실</a> </td>\n",
       "<td class=\"views-field views-field-field-faculty\">\n",
       "<a href=\"/professor/%EA%B9%80%EA%B1%B4%ED%9D%AC\">김건희</a> </td>\n",
       "<td class=\"views-field views-field-field-office\">\n",
       "            302동 420-2호<br/>(02) 880-7289          </td>\n",
       "<td class=\"views-field views-field-field-abbreviation\">\n",
       "            VL          </td>\n",
       "</tr>\n",
       "<tr class=\"odd\">\n",
       "<td class=\"views-field views-field-title\">\n",
       "<a href=\"/lab/%EC%8B%A4%EC%8B%9C%EA%B0%84-%EC%9C%A0%EB%B9%84%EC%BF%BC%ED%84%B0%EC%8A%A4-%EC%8B%9C%EC%8A%A4%ED%85%9C-%EC%97%B0%EA%B5%AC%EC%8B%A4\">실시간 유비쿼터스 시스템 연구실</a> </td>\n",
       "<td class=\"views-field views-field-field-faculty\">\n",
       "<a href=\"/professor/%EC%9D%B4%EC%B0%BD%EA%B1%B4\">이창건</a> </td>\n",
       "<td class=\"views-field views-field-field-office\">\n",
       "            301동 415호<br/>(02) 880-2562          </td>\n",
       "<td class=\"views-field views-field-field-abbreviation\">\n",
       "            RUBIS          </td>\n",
       "</tr>\n",
       "<tr class=\"even\">\n",
       "<td class=\"views-field views-field-title\">\n",
       "<a href=\"/lab/%EC%95%84%ED%82%A4%ED%85%8D%EC%B2%98-%EB%B0%8F-%EC%BD%94%EB%93%9C-%EC%B5%9C%EC%A0%81%ED%99%94-%EC%97%B0%EA%B5%AC%EC%8B%A4\">아키텍처 및 코드 최적화 연구실</a> </td>\n",
       "<td class=\"views-field views-field-field-faculty\">\n",
       "<a href=\"/professor/%EC%9D%B4%EC%9E%AC%EC%9A%B1\">이재욱</a> </td>\n",
       "<td class=\"views-field views-field-field-office\">\n",
       "            301동 554-1호<br/>(02) 880-1836          </td>\n",
       "<td class=\"views-field views-field-field-abbreviation\">\n",
       "            ARC          </td>\n",
       "</tr>\n",
       "<tr class=\"odd\">\n",
       "<td class=\"views-field views-field-title\">\n",
       "<a href=\"/lab/%EC%9A%B4%EB%8F%99-%EC%97%B0%EA%B5%AC%EC%8B%A4\">운동 연구실</a> </td>\n",
       "<td class=\"views-field views-field-field-faculty\">\n",
       "<a href=\"/professor/%EC%9D%B4%EC%A0%9C%ED%9D%AC\">이제희</a> </td>\n",
       "<td class=\"views-field views-field-field-office\">\n",
       "            302동 312-1호<br/>(02) 880-1864          </td>\n",
       "<td class=\"views-field views-field-field-abbreviation\">\n",
       "            MRL          </td>\n",
       "</tr>\n",
       "<tr class=\"even\">\n",
       "<td class=\"views-field views-field-title\">\n",
       "<a href=\"/lab/%EC%9D%B4%EB%8F%99-%EC%BB%B4%ED%93%A8%ED%8C%85-%EB%B0%8F-%ED%86%B5%EC%8B%A0-%EC%97%B0%EA%B5%AC%EC%8B%A4\">이동 컴퓨팅 및 통신 연구실</a> </td>\n",
       "<td class=\"views-field views-field-field-faculty\">\n",
       "<a href=\"/professor/%EC%A0%84%ED%99%94%EC%88%99\">전화숙</a> </td>\n",
       "<td class=\"views-field views-field-field-office\">\n",
       "            302동 313-1호<br/>(02) 880-1841          </td>\n",
       "<td class=\"views-field views-field-field-abbreviation\">\n",
       "            MCCL          </td>\n",
       "</tr>\n",
       "<tr class=\"odd\">\n",
       "<td class=\"views-field views-field-title\">\n",
       "<a href=\"/lab/%EC%9D%B8%ED%84%B0%EB%84%B7-%EB%8D%B0%EC%9D%B4%ED%84%B0%EB%B2%A0%EC%9D%B4%EC%8A%A4-%EC%97%B0%EA%B5%AC%EC%8B%A4\">인터넷 데이터베이스 연구실</a> </td>\n",
       "<td class=\"views-field views-field-field-faculty\">\n",
       "<a href=\"/professor/%EA%B9%80%ED%98%95%EC%A3%BC\">김형주</a> </td>\n",
       "<td class=\"views-field views-field-field-office\">\n",
       "            301동 453호<br/>(02) 880-1830          </td>\n",
       "<td class=\"views-field views-field-field-abbreviation\">\n",
       "            IDB          </td>\n",
       "</tr>\n",
       "<tr class=\"even\">\n",
       "<td class=\"views-field views-field-title\">\n",
       "<a href=\"/lab/%EC%9D%B8%ED%84%B0%EB%84%B7-%EC%9C%B5%ED%95%A9-%EB%B0%8F-%EB%B3%B4%EC%95%88-%EC%97%B0%EA%B5%AC%EC%8B%A4\">인터넷 융합 및 보안 연구실</a> </td>\n",
       "<td class=\"views-field views-field-field-faculty\">\n",
       "<a href=\"/professor/%EC%B5%9C%EC%96%91%ED%9D%AC\">최양희</a>, <a href=\"/professor/%EA%B6%8C%ED%83%9C%EA%B2%BD\">권태경</a> </td>\n",
       "<td class=\"views-field views-field-field-office\">\n",
       "            301동 518호<br/>(02) 880-9147          </td>\n",
       "<td class=\"views-field views-field-field-abbreviation\">\n",
       "            NCSL          </td>\n",
       "</tr>\n",
       "<tr class=\"odd\">\n",
       "<td class=\"views-field views-field-title\">\n",
       "<a href=\"/lab/%EC%9E%84%EB%B2%A0%EB%94%94%EB%93%9C%EC%8B%9C%EC%8A%A4%ED%85%9C-%EC%97%B0%EA%B5%AC%EC%8B%A4\">임베디드시스템 연구실</a> </td>\n",
       "<td class=\"views-field views-field-field-faculty\">\n",
       "<a href=\"/professor/%EA%B9%80%EC%A7%80%ED%99%8D\">김지홍</a> </td>\n",
       "<td class=\"views-field views-field-field-office\">\n",
       "            302동 315-2호<br/>(02) 880-1861          </td>\n",
       "<td class=\"views-field views-field-field-abbreviation\">\n",
       "            CARES          </td>\n",
       "</tr>\n",
       "<tr class=\"even\">\n",
       "<td class=\"views-field views-field-title\">\n",
       "<a href=\"/lab/%EC%A7%80%EB%8A%A5%ED%98%95-%EB%8D%B0%EC%9D%B4%ED%84%B0-%EC%8B%9C%EC%8A%A4%ED%85%9C-%EC%97%B0%EA%B5%AC%EC%8B%A4\">지능형 데이터 시스템 연구실</a> </td>\n",
       "<td class=\"views-field views-field-field-faculty\">\n",
       "<a href=\"/professor/%EC%9D%B4%EC%83%81%EA%B5%AC\">이상구</a> </td>\n",
       "<td class=\"views-field views-field-field-office\">\n",
       "            301동 420호<br/>(02) 880-1859          </td>\n",
       "<td class=\"views-field views-field-field-abbreviation\">\n",
       "            IDS          </td>\n",
       "</tr>\n",
       "<tr class=\"odd\">\n",
       "<td class=\"views-field views-field-title\">\n",
       "<a href=\"/lab/%EC%B5%9C%EC%A0%81%ED%99%94-%EB%B0%8F-%EA%B8%88%EC%9C%B5%EA%B3%B5%ED%95%99-%EC%97%B0%EA%B5%AC%EC%8B%A4\">최적화 및 금융공학 연구실</a> </td>\n",
       "<td class=\"views-field views-field-field-faculty\">\n",
       "<a href=\"/professor/%EB%AC%B8%EB%B3%91%EB%A1%9C\">문병로</a> </td>\n",
       "<td class=\"views-field views-field-field-office\">\n",
       "            302동 313-2호<br/>(02) 880-1851          </td>\n",
       "<td class=\"views-field views-field-field-abbreviation\">\n",
       "            OPT          </td>\n",
       "</tr>\n",
       "<tr class=\"even\">\n",
       "<td class=\"views-field views-field-title\">\n",
       "<a href=\"/lab/%EC%BB%B4%ED%93%A8%ED%84%B0-%EA%B7%B8%EB%9E%98%ED%94%BD%EC%8A%A4-%EB%B0%8F-%EC%9D%B4%EB%AF%B8%EC%A7%80-%EC%B2%98%EB%A6%AC-%EC%97%B0%EA%B5%AC%EC%8B%A4\">컴퓨터 그래픽스 및 이미지 처리 연구실</a> </td>\n",
       "<td class=\"views-field views-field-field-faculty\">\n",
       "<a href=\"/professor/%EC%8B%A0%EC%98%81%EA%B8%B8\">신영길</a> </td>\n",
       "<td class=\"views-field views-field-field-office\">\n",
       "            302동 320호<br/>(02) 880-1860          </td>\n",
       "<td class=\"views-field views-field-field-abbreviation\">\n",
       "            CGIP          </td>\n",
       "</tr>\n",
       "<tr class=\"odd\">\n",
       "<td class=\"views-field views-field-title\">\n",
       "<a href=\"/lab/%EC%BB%B4%ED%93%A8%ED%84%B0-%EC%8B%9C%EC%8A%A4%ED%85%9C-%EB%B0%8F-%ED%94%8C%EB%9E%AB%ED%8F%BC-%EC%97%B0%EA%B5%AC%EC%8B%A4\">컴퓨터 시스템 및 플랫폼 연구실</a> </td>\n",
       "<td class=\"views-field views-field-field-faculty\">\n",
       "<a href=\"/professor/%EB%B2%84%EB%82%98%EB%93%9C-%EC%97%90%EA%B1%B0\">버나드 에거</a> </td>\n",
       "<td class=\"views-field views-field-field-office\">\n",
       "            301동 419호<br/>(02) 880-1819          </td>\n",
       "<td class=\"views-field views-field-field-abbreviation\">\n",
       "            CSAP          </td>\n",
       "</tr>\n",
       "<tr class=\"even\">\n",
       "<td class=\"views-field views-field-title\">\n",
       "<a href=\"/lab/%EC%BB%B4%ED%93%A8%ED%84%B0%EC%9D%B4%EB%A1%A0-%EB%B0%8F-%EC%9D%91%EC%9A%A9-%EC%97%B0%EA%B5%AC%EC%8B%A4\">컴퓨터이론 및 응용 연구실</a> </td>\n",
       "<td class=\"views-field views-field-field-faculty\">\n",
       "<a href=\"/professor/%EB%B0%95%EA%B7%BC%EC%88%98\">박근수</a> </td>\n",
       "<td class=\"views-field views-field-field-office\">\n",
       "            301동 414호<br/>(02) 880-1828          </td>\n",
       "<td class=\"views-field views-field-field-abbreviation\">\n",
       "            CTA          </td>\n",
       "</tr>\n",
       "<tr class=\"odd\">\n",
       "<td class=\"views-field views-field-title\">\n",
       "<a href=\"/lab/%EC%BB%B4%ED%93%A8%ED%8C%85-%EB%A9%94%EB%AA%A8%EB%A6%AC-%EA%B5%AC%EC%A1%B0-%EC%97%B0%EA%B5%AC%EC%8B%A4\">컴퓨팅 메모리 구조 연구실</a> </td>\n",
       "<td class=\"views-field views-field-field-faculty\">\n",
       "<a href=\"/professor/%EC%9C%A0%EC%8A%B9%EC%A3%BC\">유승주</a> </td>\n",
       "<td class=\"views-field views-field-field-office\">\n",
       "            302동 319-2호<br/>(02) 880-1481          </td>\n",
       "<td class=\"views-field views-field-field-abbreviation\">\n",
       "            CMA          </td>\n",
       "</tr>\n",
       "<tr class=\"even\">\n",
       "<td class=\"views-field views-field-title\">\n",
       "<a href=\"/lab/%ED%86%B5%ED%95%A9%EC%84%A4%EA%B3%84-%EB%B0%8F-%EB%B3%91%EB%A0%AC-%EC%B2%98%EB%A6%AC-%EC%97%B0%EA%B5%AC%EC%8B%A4\">통합설계 및 병렬 처리 연구실</a> </td>\n",
       "<td class=\"views-field views-field-field-faculty\">\n",
       "<a href=\"/professor/%ED%95%98%EC%88%9C%ED%9A%8C\">하순회</a> </td>\n",
       "<td class=\"views-field views-field-field-office\">\n",
       "            301동 455-1호<br/>(02) 880-7292          </td>\n",
       "<td class=\"views-field views-field-field-abbreviation\">\n",
       "            CAP          </td>\n",
       "</tr>\n",
       "<tr class=\"odd\">\n",
       "<td class=\"views-field views-field-title\">\n",
       "<a href=\"/lab/%ED%94%84%EB%A1%9C%EA%B7%B8%EB%9E%98%EB%B0%8D-%EC%97%B0%EA%B5%AC%EC%8B%A4\">프로그래밍 연구실</a> </td>\n",
       "<td class=\"views-field views-field-field-faculty\">\n",
       "<a href=\"/professor/%EC%9D%B4%EA%B4%91%EA%B7%BC\">이광근</a> </td>\n",
       "<td class=\"views-field views-field-field-office\">\n",
       "            302동 312-2호<br/>(02) 880-1865          </td>\n",
       "<td class=\"views-field views-field-field-abbreviation\">\n",
       "            ROPAS          </td>\n",
       "</tr>\n",
       "<tr class=\"even views-row-last\">\n",
       "<td class=\"views-field views-field-title\">\n",
       "<a href=\"/lab/%ED%9C%B4%EB%A8%BC-%EC%BB%B4%ED%93%A8%ED%84%B0-%EC%9D%B8%ED%84%B0%EC%95%A1%EC%85%98-%EC%97%B0%EA%B5%AC%EC%8B%A4\">휴먼-컴퓨터 인터액션 연구실</a> </td>\n",
       "<td class=\"views-field views-field-field-faculty\">\n",
       "<a href=\"/professor/%EC%84%9C%EC%A7%84%EC%9A%B1\">서진욱</a> </td>\n",
       "<td class=\"views-field views-field-field-office\">\n",
       "            302동 314-2호<br/>(02) 880-7044          </td>\n",
       "<td class=\"views-field views-field-field-abbreviation\">\n",
       "            HCI          </td>\n",
       "</tr>\n",
       "</tbody>\n",
       "</table>\n",
       "</div>\n",
       "</div> </div>\n",
       "</div><!-- /.block -->\n",
       "</div><!-- /.region -->\n",
       "</div></div>"
      ]
     },
     "execution_count": 24,
     "metadata": {},
     "output_type": "execute_result"
    }
   ],
   "source": [
    "content = page.select_one('#content')\n",
    "content"
   ]
  }
 ],
 "metadata": {
  "kernelspec": {
   "display_name": "Python 3",
   "language": "python",
   "name": "python3"
  },
  "language_info": {
   "codemirror_mode": {
    "name": "ipython",
    "version": 3
   },
   "file_extension": ".py",
   "mimetype": "text/x-python",
   "name": "python",
   "nbconvert_exporter": "python",
   "pygments_lexer": "ipython3",
   "version": "3.6.5"
  }
 },
 "nbformat": 4,
 "nbformat_minor": 2
}

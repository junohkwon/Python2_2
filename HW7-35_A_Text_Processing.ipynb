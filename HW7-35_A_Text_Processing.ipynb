{
 "cells": [
  {
   "cell_type": "markdown",
   "metadata": {},
   "source": [
    "# DS2과정 2기 10조 HW7. Text Processing\n",
    "### (장용철, 이현영, 권준오)"
   ]
  },
  {
   "cell_type": "markdown",
   "metadata": {},
   "source": [
    "## 1.HTML Parser"
   ]
  },
  {
   "cell_type": "code",
   "execution_count": 1,
   "metadata": {},
   "outputs": [],
   "source": [
    "from bs4 import BeautifulSoup\n",
    "import pandas as pd\n",
    "import numpy as np\n",
    "import matplotlib.pyplot as plt\n",
    "from html.parser import HTMLParser\n",
    "import requests"
   ]
  },
  {
   "cell_type": "code",
   "execution_count": 2,
   "metadata": {},
   "outputs": [
    {
     "name": "stdout",
     "output_type": "stream",
     "text": [
      "{'labName': [' 3차원 모델링 및 처리 연구실 ', ' 인터넷 데이터베이스 연구실 ', ' 데이터베이스 시스템 연구실 '], 'professor': [' 김명수 ', ' 김형주 ', ' 문봉기 '], 'phone': [' (02) 880-1840 ', ' (02) 880-1830 ', ' (02) 880-6575 ']}\n"
     ]
    }
   ],
   "source": [
    "class MyParser(HTMLParser):\n",
    "    \n",
    "    def __init__(self):\n",
    "        HTMLParser.__init__(self)\n",
    "        self.currentTag = None\n",
    "        self.labelDataList = []\n",
    "        \n",
    "    def handle_starttag(self, tag, attrs):\n",
    "        if tag=='a':\n",
    "            for name, value in attrs:\n",
    "                if value[:4] == '/lab':\n",
    "                    self.currentTag = 'labName'\n",
    "                    break\n",
    "                if value[:10] == '/professor':\n",
    "                    self.currentTag = 'professor'\n",
    "                    break;\n",
    "        if tag =='td':\n",
    "            for name, value in attrs:\n",
    "                if value == 'views-field views=field-field-office':\n",
    "                    self.currentTag = 'location'\n",
    "                    break;\n",
    "                if value == 'views-field views-field-field-abbrevation':\n",
    "                    self.currentTag = 'abbreviation'\n",
    "                    break;\n",
    "        if tag=='br':\n",
    "            self.currentTag = 'phone'\n",
    "    \n",
    "    def handle_data(self, data):\n",
    "        if self.currentTag is not None:\n",
    "            self.labelDataList.append((self.currentTag,data))\n",
    "        self.currentTag = None\n",
    "\n",
    "    def LabInfoDict(self):\n",
    "        self.dic={}\n",
    "        for labelData in self.labelDataList:            \n",
    "            self.dic.setdefault(labelData[0],[]).append(labelData[1])\n",
    "        \n",
    "        return self.dic\n",
    "    \n",
    "\n",
    "parser = MyParser()\n",
    "html_str = '<html><head></head><body><tr class=\"odd views-row-first\"><td class=\"views-field views-field-title\" ><a href=\"/lab/3%EC%B0%A8%EC%9B%90-%EB%AA%A8%EB%8D%B8%EB%A7%81-%EB%B0%8F-%EC%B2%98%EB%A6%AC-%EC%97%B0%EA%B5%AC%EC%8B%A4\"> 3차원 모델링 및 처리 연구실 </a></td><td class=\"views-field views-field-field-faculty\" ><a href=\"/professor/%EA%B9%80%EB%AA%85%EC%88%98\"> 김명수 </a></td><td class=\"views-field views-field-field-office\" > 302동 315-1호 <br /> (02) 880-1840 </td><td class=\"views-field views-field-field-abbreviation\" > 3MAP </td></tr><tr class=\"odd\"><td class=\"views-field views-field-title\" ><a href=\"/lab/%EC%9D%B8%ED%84%B0%EB%84%B7-%EB%8D%B0%EC%9D%B4%ED%84%B0%EB%B2%A0%EC%9D%B4%EC%8A%A4-%EC%97%B0%EA%B5%AC%EC%8B%A4\"> 인터넷 데이터베이스 연구실 </a></td><td class=\"views-field views-field-field-faculty\" ><a href=\"/professor/%EA%B9%80%ED%98%95%EC%A3%BC\"> 김형주 </a></td><td class=\"views-field views-field-field-office\" > 301동 453호 <br/> (02) 880-1830 </td><td class=\"views-field views-field-field-abbreviation\" > IDB </td></tr><tr class=\"even\"><td class=\"views-field views-field-title\" ><a href=\"/lab/%EB%8D%B0%EC%9D%B4%ED%84%B0%EB%B2%A0%EC%9D%B4%EC%8A%A4-%EC%8B%9C%EC%8A%A4%ED%85%9C-%EC%97%B0%EA%B5%AC%EC%8B%A4\"> 데이터베이스 시스템 연구실 </a></td><td class=\"views-field views-field-field-faculty\" ><a href=\"/professor/%EB%AC%B8%EB%B4%89%EA%B8%B0\"> 문봉기 </a></td><td class=\"views-field views-field-field-office\" > 301동 418호 / 452-2호 <br /> (02) 880-6575 </td><td class=\"views-field views-field-field-abbreviation\" > DBS </td></tr></body></html>'\n",
    "parser.feed(html_str)\n",
    "\n",
    "dic = parser.LabInfoDict()\n",
    "print(dic)\n"
   ]
  },
  {
   "cell_type": "code",
   "execution_count": 3,
   "metadata": {},
   "outputs": [
    {
     "data": {
      "image/png": "[encoded data removed]",
      "text/plain": [
       "<Figure size 864x576 with 1 Axes>"
      ]
     },
     "metadata": {},
     "output_type": "display_data"
    }
   ],
   "source": [
    "def to_numeric(s):\n",
    "    try:\n",
    "        conv = float(s)\n",
    "        i = int(conv)\n",
    "        if i == conv:\n",
    "            return i\n",
    "        return conv\n",
    "    except ValueError:\n",
    "        return s\n",
    "\n",
    "def get_nfl_table(url, limit=None):\n",
    "    response = requests.get(url)\n",
    "    soup = BeautifulSoup(response.text,'html.parser')\n",
    "    table = soup.select_one(\"#data\")\n",
    "    headers = [header.text for header in table.find_all('th')]\n",
    "    body_trs = table.find('tbody').find_all('tr',limit=limit)\n",
    "    records = [{key:to_numeric(rec.string) for key,rec in zip(headers, record.find_all('td'))} for record in body_trs]\n",
    "    \n",
    "    return records\n",
    "\n",
    "url = 'https://www.fantasypros.com/nfl/reports/leaders/rb.php?year=2015'\n",
    "table = pd.DataFrame(get_nfl_table(url,10))\n",
    "\n",
    "runneravg = table['Avg']\n",
    "runnerlist = table['Player']\n",
    "\n",
    "fig = plt.figure(figsize=(12,8))\n",
    "ax = fig.add_subplot(111)\n",
    "ypos = np.arange(10)\n",
    "rects = plt.barh(ypos, runneravg, align='center', height=0.3)\n",
    "plt.yticks(ypos, runnerlist, size=8)\n",
    "plt.xlabel('Avg')\n",
    "plt.title(\"Top Running Back's AVG\")\n",
    "plt.xlim(0, max(runneravg)+1)\n",
    "plt.show()"
   ]
  },
  {
   "cell_type": "markdown",
   "metadata": {},
   "source": [
    "## 2. Regular Expression"
   ]
  },
  {
   "cell_type": "code",
   "execution_count": 4,
   "metadata": {},
   "outputs": [
    {
     "data": {
      "text/plain": [
       "['Ea', 'is', 'th', 'th', 'pl', 'fr', 'th', 'Su']"
      ]
     },
     "execution_count": 4,
     "metadata": {},
     "output_type": "execute_result"
    }
   ],
   "source": [
    "import re\n",
    "\n",
    "string = \"Earth is the third planet from the Sun\"\n",
    "\n",
    "pat = re.compile(r\"\\b[\\w]{2}\")\n",
    "\n",
    "result = pat.findall(string)\n",
    "\n",
    "result"
   ]
  },
  {
   "cell_type": "code",
   "execution_count": 5,
   "metadata": {},
   "outputs": [
    {
     "data": {
      "text/plain": [
       "['@gmail.com', '@analyticsvidhya.com']"
      ]
     },
     "execution_count": 5,
     "metadata": {},
     "output_type": "execute_result"
    }
   ],
   "source": [
    "string=\"abc.test@gmail.com,xyz@test.in,test.first@analyticsvidhya.com,first.test@rest.biz\"\n",
    "\n",
    "pat = re.compile(r\"[@]\\w+[.]com\")\n",
    "\n",
    "result = pat.findall(string)\n",
    "\n",
    "result"
   ]
  },
  {
   "cell_type": "code",
   "execution_count": 6,
   "metadata": {},
   "outputs": [
    {
     "data": {
      "text/plain": [
       "['12-05-2007', '11-11-2011', '12-01-2009']"
      ]
     },
     "execution_count": 6,
     "metadata": {},
     "output_type": "execute_result"
    }
   ],
   "source": [
    "string = \"'Amit 34-3456 12-05-2007,XYZ 56-4532 11-11-2011,ABC 67-8945 12-01-2009\"\n",
    "\n",
    "pat = re.compile(r\"\\d{2}[-]\\d{2}[-]\\d{4}\")\n",
    "\n",
    "result = pat.findall(string)\n",
    "\n",
    "result"
   ]
  },
  {
   "cell_type": "code",
   "execution_count": 7,
   "metadata": {},
   "outputs": [
    {
     "data": {
      "text/plain": [
       "['Earth', 'interacts', 'other', 'objects', 'in', 'especially', 'and']"
      ]
     },
     "execution_count": 7,
     "metadata": {},
     "output_type": "execute_result"
    }
   ],
   "source": [
    "string = \"Earth's gravity interacts with other objects in space, especially the Sun and the Moon\"\n",
    "\n",
    "pat = re.compile(r\"\\b[A|a|E|e|I|i|O|o|U|u]\\w+\")\n",
    "\n",
    "result = pat.findall(string)\n",
    "\n",
    "result"
   ]
  },
  {
   "cell_type": "code",
   "execution_count": 8,
   "metadata": {},
   "outputs": [
    {
     "name": "stdout",
     "output_type": "stream",
     "text": [
      "010-256-1354\n",
      "010-1234-5576\n",
      "False\n",
      "False\n",
      "False\n"
     ]
    }
   ],
   "source": [
    "lst = ['010-256-1354','010-1234-5576','070-642-0384','010-290*-4858','0105734123']\n",
    "\n",
    "pat = re.compile(r\"010[-]\\d{3,4}[-]\\d{4}\")\n",
    "\n",
    "for val in lst:\n",
    "    m = pat.search(val)\n",
    "    if m:\n",
    "        print(m.group())\n",
    "    else:\n",
    "        print(False)\n",
    "        "
   ]
  }
 ],
 "metadata": {
  "kernelspec": {
   "display_name": "Python 3",
   "language": "python",
   "name": "python3"
  },
  "language_info": {
   "codemirror_mode": {
    "name": "ipython",
    "version": 3
   },
   "file_extension": ".py",
   "mimetype": "text/x-python",
   "name": "python",
   "nbconvert_exporter": "python",
   "pygments_lexer": "ipython3",
   "version": "3.6.5"
  }
 },
 "nbformat": 4,
 "nbformat_minor": 2
}

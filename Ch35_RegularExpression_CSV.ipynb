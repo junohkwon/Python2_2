{
 "cells": [
  {
   "cell_type": "code",
   "execution_count": 1,
   "metadata": {},
   "outputs": [],
   "source": [
    "import re"
   ]
  },
  {
   "cell_type": "code",
   "execution_count": 35,
   "metadata": {},
   "outputs": [
    {
     "data": {
      "text/plain": [
       "'\\npark 1049118-*******\\nkim 1059119-*******\\n'"
      ]
     },
     "execution_count": 35,
     "metadata": {},
     "output_type": "execute_result"
    }
   ],
   "source": [
    "data=\"\"\"\n",
    "park 800905-1049118\n",
    "kim 700905-1059119\n",
    "\"\"\"\n",
    "\n",
    "\n",
    "pat = re.compile(r\"(\\d{6})[-](\\d{7})\")\n",
    "\n",
    "#print(pat.findall(data))\n",
    "\n",
    "pat.sub(\"\\g<2>-*******\",data)\n"
   ]
  },
  {
   "cell_type": "code",
   "execution_count": 39,
   "metadata": {},
   "outputs": [
    {
     "data": {
      "text/plain": [
       "('Isaac', 'Newton')"
      ]
     },
     "execution_count": 39,
     "metadata": {},
     "output_type": "execute_result"
    }
   ],
   "source": [
    "m = re.match(r\"(\\w+) (\\w+)\",\"Isaac Newton, physicist\")\n",
    "m.group(0)\n",
    "m.group(1)\n",
    "m.group(2)\n",
    "m.group(1,2)"
   ]
  },
  {
   "cell_type": "code",
   "execution_count": 43,
   "metadata": {},
   "outputs": [
    {
     "data": {
      "text/plain": [
       "['010-2453-1525', '010-6493-0125']"
      ]
     },
     "execution_count": 43,
     "metadata": {},
     "output_type": "execute_result"
    }
   ],
   "source": [
    "myList=['105-52-33033-C','010-2453-1525','205-413-2367-31','010-6493-0125','504216378-93','24C-Z8FM-0163','070-1563-8309','15-37-01534','010-0152-FMC0']\n",
    "\n",
    "phone_list=[]\n",
    "\n",
    "for item in myList:\n",
    "    matchObj = re.match(r\"01\\d[-]\\d{3,4}[-]\\d{4}\", item)\n",
    "    if matchObj:\n",
    "        phone_list.append(matchObj.group())\n",
    "        \n",
    "phone_list        "
   ]
  },
  {
   "cell_type": "code",
   "execution_count": 44,
   "metadata": {},
   "outputs": [
    {
     "name": "stdout",
     "output_type": "stream",
     "text": [
      "match found:  string\n"
     ]
    }
   ],
   "source": [
    "p = re.compile('[a-z]+')\n",
    "m = p.match('string  goes here')\n",
    "\n",
    "if m:\n",
    "    print('match found: ', m.group())\n",
    "else:\n",
    "    print('no match')"
   ]
  },
  {
   "cell_type": "code",
   "execution_count": 46,
   "metadata": {},
   "outputs": [
    {
     "name": "stdout",
     "output_type": "stream",
     "text": [
      "match found:  goes\n"
     ]
    }
   ],
   "source": [
    "p = re.compile('goes')\n",
    "m = p.search('string  goes here')\n",
    "\n",
    "if m:\n",
    "    print('match found: ', m.group())\n",
    "else:\n",
    "    print('no match')"
   ]
  },
  {
   "cell_type": "code",
   "execution_count": 47,
   "metadata": {},
   "outputs": [],
   "source": [
    "import csv\n"
   ]
  },
  {
   "cell_type": "code",
   "execution_count": 51,
   "metadata": {},
   "outputs": [],
   "source": [
    "with open('eggs.csv','w') as csvfile:\n",
    "    cwriter = csv.writer(csvfile, delimiter=' ', quotechar='|', quoting=csv.QUOTE_MINIMAL)\n",
    "    cwriter.writerow(['Spam'] * 5 + ['Baked Beans'])\n",
    "    cwriter.writerow(['Spam','Lovely Spam','Wonderful Spam'])"
   ]
  },
  {
   "cell_type": "code",
   "execution_count": 53,
   "metadata": {},
   "outputs": [
    {
     "name": "stdout",
     "output_type": "stream",
     "text": [
      "Spam, Spam, Spam, Spam, Spam, Baked Beans\n",
      "\n",
      "Spam, Lovely Spam, Wonderful Spam\n",
      "\n"
     ]
    }
   ],
   "source": [
    "creader = csv.reader(open('eggs.csv', newline=''), delimiter=' ', quotechar='|')\n",
    "for row in creader:\n",
    "    print(', '.join(row))"
   ]
  },
  {
   "cell_type": "code",
   "execution_count": 54,
   "metadata": {},
   "outputs": [],
   "source": [
    "with open('names.csv','w') as csvfile:\n",
    "    fieldnames = ['first_name','last_name']\n",
    "    writer = csv.DictWriter(csvfile, fieldnames=fieldnames)\n",
    "    \n",
    "    writer.writeheader()\n",
    "    writer.writerow({'first_name':'Baked','last_name':'Beans'})\n",
    "    writer.writerow({'first_name':'Lovely','last_name':'Spam'})\n",
    "    writer.writerow({'first_name':'Wonderful','last_name':'Spam'})\n",
    "    "
   ]
  },
  {
   "cell_type": "code",
   "execution_count": 55,
   "metadata": {},
   "outputs": [
    {
     "name": "stdout",
     "output_type": "stream",
     "text": [
      "Baked Beans\n",
      "Lovely Spam\n",
      "Wonderful Spam\n",
      "OrderedDict([('first_name', 'Wonderful'), ('last_name', 'Spam')])\n"
     ]
    }
   ],
   "source": [
    "with open('names.csv', newline='') as csvfile:\n",
    "    reader = csv.DictReader(csvfile)\n",
    "    for row in reader:\n",
    "        print(row['first_name'],row['last_name'])\n",
    "    \n",
    "print(row)    "
   ]
  },
  {
   "cell_type": "code",
   "execution_count": 73,
   "metadata": {},
   "outputs": [],
   "source": [
    "data = []\n",
    "\n",
    "fr = open('iris.csv','r')\n",
    "reader = csv.reader(fr)\n",
    "\n",
    "for row in reader:\n",
    "    data.append(row[5:]+row[:5])\n",
    "    \n",
    "fr.close()\n",
    "\n",
    "fw = open('iris2.csv','w', newline='\\n')\n",
    "writer = csv.writer(fw)\n",
    "for row in data:\n",
    "    writer.writerow(row)\n",
    "\n",
    "fw.close()    "
   ]
  }
 ],
 "metadata": {
  "kernelspec": {
   "display_name": "Python 3",
   "language": "python",
   "name": "python3"
  },
  "language_info": {
   "codemirror_mode": {
    "name": "ipython",
    "version": 3
   },
   "file_extension": ".py",
   "mimetype": "text/x-python",
   "name": "python",
   "nbconvert_exporter": "python",
   "pygments_lexer": "ipython3",
   "version": "3.6.5"
  }
 },
 "nbformat": 4,
 "nbformat_minor": 2
}

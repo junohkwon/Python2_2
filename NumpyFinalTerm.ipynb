{
 "cells": [
  {
   "cell_type": "code",
   "execution_count": 2,
   "metadata": {},
   "outputs": [
    {
     "data": {
      "text/plain": [
       "array([[1., 2., 3.],\n",
       "       [4., 5., 6.]])"
      ]
     },
     "execution_count": 2,
     "metadata": {},
     "output_type": "execute_result"
    }
   ],
   "source": [
    "import numpy as np\n",
    "\n",
    "a = np.array([[1,2,3],[4,5,6]],float)\n",
    "a"
   ]
  },
  {
   "cell_type": "code",
   "execution_count": 2,
   "metadata": {},
   "outputs": [
    {
     "data": {
      "text/plain": [
       "array([0. , 0.3, 0.6, 0.9, 1.2, 1.5, 1.8, 2.1, 2.4, 2.7, 3. , 3.3, 3.6,\n",
       "       3.9, 4.2, 4.5, 4.8])"
      ]
     },
     "execution_count": 2,
     "metadata": {},
     "output_type": "execute_result"
    }
   ],
   "source": [
    "b = np.arange(0.,5.,0.3)\n",
    "b"
   ]
  },
  {
   "cell_type": "code",
   "execution_count": 3,
   "metadata": {},
   "outputs": [
    {
     "data": {
      "text/plain": [
       "array([[0., 0., 0., 0.],\n",
       "       [0., 0., 0., 0.]])"
      ]
     },
     "execution_count": 3,
     "metadata": {},
     "output_type": "execute_result"
    }
   ],
   "source": [
    "c = np.zeros((2,4))\n",
    "c"
   ]
  },
  {
   "cell_type": "code",
   "execution_count": 4,
   "metadata": {},
   "outputs": [
    {
     "data": {
      "text/plain": [
       "array([[7, 7, 7, 7],\n",
       "       [7, 7, 7, 7]])"
      ]
     },
     "execution_count": 4,
     "metadata": {},
     "output_type": "execute_result"
    }
   ],
   "source": [
    "d = np.full((2,4),7)\n",
    "d"
   ]
  },
  {
   "cell_type": "code",
   "execution_count": 5,
   "metadata": {},
   "outputs": [
    {
     "data": {
      "text/plain": [
       "array([[1., 1., 1.],\n",
       "       [1., 1., 1.]])"
      ]
     },
     "execution_count": 5,
     "metadata": {},
     "output_type": "execute_result"
    }
   ],
   "source": [
    "e = np.ones((2,3))\n",
    "e"
   ]
  },
  {
   "cell_type": "code",
   "execution_count": 6,
   "metadata": {},
   "outputs": [
    {
     "data": {
      "text/plain": [
       "array([[1., 0., 0., 0., 0.],\n",
       "       [0., 1., 0., 0., 0.],\n",
       "       [0., 0., 1., 0., 0.],\n",
       "       [0., 0., 0., 1., 0.],\n",
       "       [0., 0., 0., 0., 1.]])"
      ]
     },
     "execution_count": 6,
     "metadata": {},
     "output_type": "execute_result"
    }
   ],
   "source": [
    "f = np.eye(5)\n",
    "f"
   ]
  },
  {
   "cell_type": "code",
   "execution_count": 7,
   "metadata": {},
   "outputs": [
    {
     "data": {
      "text/plain": [
       "array([[0.96035745, 0.99948778, 0.15035878],\n",
       "       [0.75189795, 0.99893444, 0.62940973]])"
      ]
     },
     "execution_count": 7,
     "metadata": {},
     "output_type": "execute_result"
    }
   ],
   "source": [
    "## 0.0 ~ 1.0 사이의 Random 값 반환\n",
    "g = np.random.random((2,3))\n",
    "g"
   ]
  },
  {
   "cell_type": "code",
   "execution_count": 8,
   "metadata": {},
   "outputs": [
    {
     "data": {
      "text/plain": [
       "array([[0.11375043, 0.25933227, 0.3401893 ],\n",
       "       [0.04713719, 0.29341176, 0.7312013 ]])"
      ]
     },
     "execution_count": 8,
     "metadata": {},
     "output_type": "execute_result"
    }
   ],
   "source": [
    "## 0.0 ~ 1.0 사이의 Uniform Distribution값 반환\n",
    "h = np.random.rand(2,3)\n",
    "h"
   ]
  },
  {
   "cell_type": "code",
   "execution_count": 9,
   "metadata": {},
   "outputs": [
    {
     "data": {
      "text/plain": [
       "array([8, 7, 2, 5, 5, 7, 7])"
      ]
     },
     "execution_count": 9,
     "metadata": {},
     "output_type": "execute_result"
    }
   ],
   "source": [
    "## 0 ~ 10 사이의 랜덤정수 7개 반환\n",
    "i = np.random.randint(10, size=7)\n",
    "i"
   ]
  },
  {
   "cell_type": "code",
   "execution_count": 10,
   "metadata": {},
   "outputs": [
    {
     "data": {
      "text/plain": [
       "array([[5, 4, 7, 1],\n",
       "       [2, 4, 2, 6]])"
      ]
     },
     "execution_count": 10,
     "metadata": {},
     "output_type": "execute_result"
    }
   ],
   "source": [
    "## 0 ~ 10 사이의 랜덤정수를 2x4 matrix로 반환\n",
    "j = np.random.randint(10, size=(2,4))\n",
    "j"
   ]
  },
  {
   "cell_type": "code",
   "execution_count": 11,
   "metadata": {},
   "outputs": [
    {
     "data": {
      "text/plain": [
       "array([[-0.14813251,  5.29774008,  1.19603923,  3.5791788 ],\n",
       "       [ 8.9011842 ,  4.09306358,  7.24141479, -2.01216326],\n",
       "       [ 3.80023272,  4.72559361,  2.0945757 , 10.69411525]])"
      ]
     },
     "execution_count": 11,
     "metadata": {},
     "output_type": "execute_result"
    }
   ],
   "source": [
    "## 평균 3, 분산 6.25인 정규분포를 3x4 matrix로 반환\n",
    "k = 2.5 * np.random.randn(3, 4) + 3\n",
    "k"
   ]
  },
  {
   "cell_type": "code",
   "execution_count": 22,
   "metadata": {},
   "outputs": [
    {
     "data": {
      "text/plain": [
       "array([[5., 6.]])"
      ]
     },
     "execution_count": 22,
     "metadata": {},
     "output_type": "execute_result"
    }
   ],
   "source": [
    "## row,col operation\n",
    "l = np.array([[1,2,3],[4,5,6]], float)\n",
    "#l[1,:]\n",
    "#l[:,1:]\n",
    "l[-1:,-2:]"
   ]
  },
  {
   "cell_type": "code",
   "execution_count": 13,
   "metadata": {},
   "outputs": [
    {
     "data": {
      "text/plain": [
       "array([[0., 3.],\n",
       "       [1., 4.],\n",
       "       [2., 5.]])"
      ]
     },
     "execution_count": 13,
     "metadata": {},
     "output_type": "execute_result"
    }
   ],
   "source": [
    "## array to matrix\n",
    "m = np.array(range(6),float)\n",
    "m = m.reshape(2,3)\n",
    "m.transpose()"
   ]
  },
  {
   "cell_type": "code",
   "execution_count": 14,
   "metadata": {},
   "outputs": [
    {
     "data": {
      "text/plain": [
       "array([0., 1., 2., 3., 4., 5.])"
      ]
     },
     "execution_count": 14,
     "metadata": {},
     "output_type": "execute_result"
    }
   ],
   "source": [
    "## matrix to array\n",
    "m.flatten()"
   ]
  },
  {
   "cell_type": "code",
   "execution_count": 15,
   "metadata": {},
   "outputs": [
    {
     "data": {
      "text/plain": [
       "array([[  0.,   1.,   2.,   3.,   4.],\n",
       "       [  5.,   6.,   7.,   8.,   9.],\n",
       "       [-10.,  -9.,  -8.,  -7.,  -6.],\n",
       "       [ -5.,  -4.,  -3.,  -2.,  -1.]])"
      ]
     },
     "execution_count": 15,
     "metadata": {},
     "output_type": "execute_result"
    }
   ],
   "source": [
    "## row concatenate\n",
    "m = np.array(range(0,10,1),float).reshape(2,5)\n",
    "n = np.array(range(-10,0,1),float).reshape(2,5)\n",
    "np.concatenate((m,n), axis=0) ## axis=0 --> row add, axis=1 --> col add"
   ]
  },
  {
   "cell_type": "code",
   "execution_count": 16,
   "metadata": {},
   "outputs": [
    {
     "name": "stdout",
     "output_type": "stream",
     "text": [
      "0.0\n",
      "1.0\n",
      "2.0\n",
      "3.0\n",
      "4.0\n",
      "5.0\n",
      "6.0\n",
      "7.0\n",
      "8.0\n",
      "9.0\n",
      "-10.0\n",
      "-9.0\n",
      "-8.0\n",
      "-7.0\n",
      "-6.0\n",
      "-5.0\n",
      "-4.0\n",
      "-3.0\n",
      "-2.0\n",
      "-1.0\n"
     ]
    }
   ],
   "source": [
    "o = np.concatenate((m,n), axis=0)\n",
    "o = o.reshape((5,4))\n",
    "\n",
    "for row in o:\n",
    "    for val in row:\n",
    "        print(val)"
   ]
  },
  {
   "cell_type": "code",
   "execution_count": 17,
   "metadata": {},
   "outputs": [
    {
     "name": "stdout",
     "output_type": "stream",
     "text": [
      "[[1 2 3]\n",
      " [4 5 6]]\n",
      "-------\n",
      "[[ 7  8  9]\n",
      " [10 11 12]]\n",
      "-------\n",
      "[[13 14 15]\n",
      " [16 17 18]]\n",
      "-------\n"
     ]
    }
   ],
   "source": [
    "p = np.array([[[1,2,3],[4,5,6]],[[7,8,9],[10,11,12]],[[13,14,15],[16,17,18]]])\n",
    "for mat in p:\n",
    "    print(mat)\n",
    "    print('-------')"
   ]
  },
  {
   "cell_type": "code",
   "execution_count": 18,
   "metadata": {},
   "outputs": [
    {
     "name": "stdout",
     "output_type": "stream",
     "text": [
      "[1 2 3]\n",
      "-------\n",
      "[4 5 6]\n",
      "-------\n",
      "[7 8 9]\n",
      "-------\n",
      "[10 11 12]\n",
      "-------\n",
      "[13 14 15]\n",
      "-------\n",
      "[16 17 18]\n",
      "-------\n"
     ]
    }
   ],
   "source": [
    "for mat in p:\n",
    "    for row in mat:\n",
    "        print(row)\n",
    "        print('-------')"
   ]
  },
  {
   "cell_type": "code",
   "execution_count": 19,
   "metadata": {},
   "outputs": [
    {
     "name": "stdout",
     "output_type": "stream",
     "text": [
      "9.0 24.0 3.0 0.6666666666666666 0.816496580927726 3.0\n"
     ]
    }
   ],
   "source": [
    "### array 통계연산\n",
    "q = np.array([2,4,3], float)\n",
    "print(q.sum(),q.prod(),q.mean(),q.var(),q.std(), np.median(q))"
   ]
  },
  {
   "cell_type": "code",
   "execution_count": 20,
   "metadata": {},
   "outputs": [
    {
     "name": "stdout",
     "output_type": "stream",
     "text": [
      "25.0 2880.0 4.166666666666667 3.8055555555555554 1.9507833184532708 3.5\n",
      "[ 7. 12.  6.] [ 9. 16.]\n"
     ]
    }
   ],
   "source": [
    "### matrix 통계연산\n",
    "q = np.array([[2,4,3],[5,8,3]], float)\n",
    "print(q.sum(),q.prod(),q.mean(),q.var(),q.std(), np.median(q))\n",
    "\n",
    "## col 연산, row 연산\n",
    "print(np.sum(q, axis=0), np.sum(q, axis=1))\n",
    "\n",
    "### concatenate 할때 axis와 사용방법이 반대이니 조심하자!!!!\n"
   ]
  },
  {
   "cell_type": "code",
   "execution_count": 28,
   "metadata": {},
   "outputs": [
    {
     "data": {
      "text/plain": [
       "array([[2., 4., 3.],\n",
       "       [5., 8., 3.]])"
      ]
     },
     "execution_count": 28,
     "metadata": {},
     "output_type": "execute_result"
    }
   ],
   "source": [
    "q"
   ]
  }
 ],
 "metadata": {
  "kernelspec": {
   "display_name": "Python 3",
   "language": "python",
   "name": "python3"
  },
  "language_info": {
   "codemirror_mode": {
    "name": "ipython",
    "version": 3
   },
   "file_extension": ".py",
   "mimetype": "text/x-python",
   "name": "python",
   "nbconvert_exporter": "python",
   "pygments_lexer": "ipython3",
   "version": "3.6.5"
  }
 },
 "nbformat": 4,
 "nbformat_minor": 2
}

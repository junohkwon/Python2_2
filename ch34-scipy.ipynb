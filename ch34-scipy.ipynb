{
 "cells": [
  {
   "cell_type": "code",
   "execution_count": 1,
   "metadata": {},
   "outputs": [
    {
     "data": {
      "text/plain": [
       "<Figure size 640x480 with 1 Axes>"
      ]
     },
     "metadata": {},
     "output_type": "display_data"
    }
   ],
   "source": [
    "from random import *\n",
    "import numpy as np\n",
    "from sklearn import linear_model\n",
    "import matplotlib.pyplot as plt\n",
    "import pandas as pd\n",
    "\n",
    "### python list 활용 예제\n",
    "\n",
    "length = 100\n",
    "x = []\n",
    "y = []\n",
    "\n",
    "for i in range(length):\n",
    "    x.append([i])\n",
    "    y.append([np.random.rand()*10])\n",
    "   \n",
    "regr = linear_model.LinearRegression()\n",
    "regr.fit(x,y)\n",
    "\n",
    "plt.scatter(x,y,color='black')\n",
    "plt.plot(x, regr.predict(x), color='blue', linewidth=3)\n",
    "plt.show()"
   ]
  },
  {
   "cell_type": "code",
   "execution_count": 2,
   "metadata": {},
   "outputs": [
    {
     "data": {
      "image/png": "[encoded data removed]",
      "text/plain": [
       "<Figure size 432x288 with 1 Axes>"
      ]
     },
     "metadata": {},
     "output_type": "display_data"
    }
   ],
   "source": [
    "### numpy 활용 예제\n",
    "\n",
    "length = 100\n",
    "x = np.array(range(0,length)).reshape(length,1)\n",
    "y = np.array([np.random.rand()*10 for i in range(length)]).reshape(length,1)\n",
    "   \n",
    "regr = linear_model.LinearRegression()\n",
    "regr.fit(x,y)\n",
    "\n",
    "plt.scatter(x,y,color='black')\n",
    "plt.plot(x, regr.predict(x), color='blue', linewidth=3)\n",
    "plt.show()"
   ]
  },
  {
   "cell_type": "code",
   "execution_count": 6,
   "metadata": {},
   "outputs": [
    {
     "data": {
      "text/plain": [
       "array([[ 0.],\n",
       "       [ 1.],\n",
       "       [ 2.],\n",
       "       [ 3.],\n",
       "       [ 4.],\n",
       "       [ 5.],\n",
       "       [ 6.],\n",
       "       [ 7.],\n",
       "       [ 8.],\n",
       "       [ 9.],\n",
       "       [10.],\n",
       "       [11.],\n",
       "       [12.],\n",
       "       [13.],\n",
       "       [14.],\n",
       "       [15.],\n",
       "       [16.],\n",
       "       [17.],\n",
       "       [18.],\n",
       "       [19.],\n",
       "       [20.],\n",
       "       [21.],\n",
       "       [22.],\n",
       "       [23.],\n",
       "       [24.],\n",
       "       [25.],\n",
       "       [26.],\n",
       "       [27.],\n",
       "       [28.],\n",
       "       [29.],\n",
       "       [30.],\n",
       "       [31.],\n",
       "       [32.],\n",
       "       [33.],\n",
       "       [34.],\n",
       "       [35.],\n",
       "       [36.],\n",
       "       [37.],\n",
       "       [38.],\n",
       "       [39.],\n",
       "       [40.],\n",
       "       [41.],\n",
       "       [42.],\n",
       "       [43.],\n",
       "       [44.],\n",
       "       [45.],\n",
       "       [46.],\n",
       "       [47.],\n",
       "       [48.],\n",
       "       [49.],\n",
       "       [50.],\n",
       "       [51.],\n",
       "       [52.],\n",
       "       [53.],\n",
       "       [54.],\n",
       "       [55.],\n",
       "       [56.],\n",
       "       [57.],\n",
       "       [58.],\n",
       "       [59.],\n",
       "       [60.],\n",
       "       [61.],\n",
       "       [62.],\n",
       "       [63.],\n",
       "       [64.],\n",
       "       [65.],\n",
       "       [66.],\n",
       "       [67.],\n",
       "       [68.],\n",
       "       [69.],\n",
       "       [70.],\n",
       "       [71.],\n",
       "       [72.],\n",
       "       [73.],\n",
       "       [74.],\n",
       "       [75.],\n",
       "       [76.],\n",
       "       [77.],\n",
       "       [78.],\n",
       "       [79.],\n",
       "       [80.],\n",
       "       [81.],\n",
       "       [82.],\n",
       "       [83.],\n",
       "       [84.],\n",
       "       [85.],\n",
       "       [86.],\n",
       "       [87.],\n",
       "       [88.],\n",
       "       [89.],\n",
       "       [90.],\n",
       "       [91.],\n",
       "       [92.],\n",
       "       [93.],\n",
       "       [94.],\n",
       "       [95.],\n",
       "       [96.],\n",
       "       [97.],\n",
       "       [98.],\n",
       "       [99.]])"
      ]
     },
     "execution_count": 6,
     "metadata": {},
     "output_type": "execute_result"
    }
   ],
   "source": [
    "### pandas 활용 예제\n",
    "\n",
    "length = 100\n",
    "x = np.array(range(0,length)).reshape(length,1)\n",
    "y = np.array([np.random.rand()*10 for i in range(length)]).reshape(length,1)\n",
    "\n",
    "xy_data = np.concatenate((x,y), axis=1)\n",
    "p_data = pd.DataFrame(xy_data, columns=('X','Y'))\n",
    "\n",
    "x_regr = p_data.X.values.reshape(length,1)\n",
    "y_regr = p_data.Y.values.reshape(length,1)\n",
    "\n",
    "regr = linear_model.LinearRegression()\n",
    "regr.fit(x_regr,y_regr)\n",
    "\n",
    "plt.scatter(x_regr,y_regr,color='black')\n",
    "plt.plot(x_regr, regr.predict(x_regr), color='blue', linewidth=3)\n",
    "plt.show()"
   ]
  },
  {
   "cell_type": "code",
   "execution_count": 4,
   "metadata": {},
   "outputs": [
    {
     "name": "stdout",
     "output_type": "stream",
     "text": [
      "Coefficient :  [938.23786125]\n",
      "Intercept :  152.91886182616167\n",
      "MSE :  2548.0723987259707\n",
      "Variance :  0.4725754479822712\n"
     ]
    }
   ],
   "source": [
    "from sklearn import datasets, linear_model\n",
    "\n",
    "diabetes = datasets.load_diabetes()\n",
    "\n",
    "## 데이터를 2D로 분리\n",
    "diabets_x = diabetes.data[:,np.newaxis,2]\n",
    "\n",
    "## 전체 데이터를 Training과 Test로 분리\n",
    "diabets_x_train = diabets_x[:-20]\n",
    "diabets_x_test = diabets_x[-20:]\n",
    "\n",
    "diabets_y_train = diabetes.target[:-20]\n",
    "diabets_y_test = diabetes.target[-20:]\n",
    "\n",
    "regr = linear_model.LinearRegression(copy_X=0)\n",
    "regr.fit(diabets_x_train, diabets_y_train)\n",
    "\n",
    "## 통계값을 확인 \n",
    "print('Coefficient : ', regr.coef_)\n",
    "print('Intercept : ', regr.intercept_)\n",
    "print('MSE : ', np.mean((regr.predict(diabets_x_test) - diabets_y_test)**2))\n",
    "print('Variance : ', regr.score(diabets_x_test, diabets_y_test))\n",
    "\n"
   ]
  },
  {
   "cell_type": "code",
   "execution_count": 5,
   "metadata": {},
   "outputs": [
    {
     "data": {
      "text/plain": [
       "array([2])"
      ]
     },
     "execution_count": 5,
     "metadata": {},
     "output_type": "execute_result"
    },
    {
     "data": {
      "image/png": "[encoded data removed]",
      "text/plain": [
       "<Figure size 432x288 with 1 Axes>"
      ]
     },
     "metadata": {},
     "output_type": "display_data"
    }
   ],
   "source": [
    "#### KNN\n",
    "\n",
    "import numpy as np\n",
    "import matplotlib.pyplot as plt\n",
    "from matplotlib.colors import ListedColormap\n",
    "from sklearn import neighbors, datasets\n",
    "\n",
    "n_neighbors = 15\n",
    "\n",
    "iris = datasets.load_iris()\n",
    "x = iris.data[:,:2]\n",
    "y = iris.target\n",
    "h = .02\n",
    " \n",
    "cmap_light = ListedColormap(['#FFAAAA','#AAFFAA','#AAAAFF'])\n",
    "cmap_bold = ListedColormap(['#FF0000','#00FF00','#0000FF'])\n",
    "\n",
    "#plt.scatter(x[:,0],x[:,1], c=y, cmap=cmap_light)\n",
    "plt.scatter(x[:,0],x[:,1], c=y, cmap=cmap_bold) ### c=y 조건에 의해 Category가 결정됨\n",
    "\n",
    "clf = neighbors.KNeighborsClassifier(n_neighbors, weights='uniform')\n",
    "clf.fit(x,y)\n",
    "\n",
    "##새로운 포인트를 넣었을때, 어떤 class로 예측하는지 확인\n",
    "new_point = np.array([[8.7,3.5]])\n",
    "iris_class = clf.predict(new_point)\n",
    "iris_class\n",
    "from sklearn import linear_model"
   ]
  },
  {
   "cell_type": "code",
   "execution_count": 18,
   "metadata": {},
   "outputs": [
    {
     "name": "stdout",
     "output_type": "stream",
     "text": [
      "[1]\n",
      "[2]\n"
     ]
    }
   ],
   "source": [
    "from sklearn import tree\n",
    "\n",
    "length = 10\n",
    "x = []\n",
    "y = []\n",
    "\n",
    "# for i in range(length):\n",
    "#     x.append(i)\n",
    "#     y.append(round(np.random.rand()*10,2))\n",
    " \n",
    "x = np.array(range(0,length)).reshape(length,1)\n",
    "y = np.array([round(np.random.rand()*10,2) for i in range(length)]).reshape(length,1)\n",
    "xy_data = []\n",
    "\n",
    "# for i in range(length):\n",
    "#     xy_data.append([x[i],y[i]])\n",
    "\n",
    "xy_data = np.concatenate((x,y),axis=1)\n",
    "z_data = [[1],[1],[1],[1],[1],[2],[2],[2],[2],[2]]\n",
    "\n",
    "clf = tree.DecisionTreeClassifier()\n",
    "clf.fit(xy_data, z_data)\n",
    "\n",
    "print(clf.predict([[3,3.01]]))\n",
    "print(clf.predict(np.array([[7,8.01]])))"
   ]
  },
  {
   "cell_type": "code",
   "execution_count": 22,
   "metadata": {},
   "outputs": [
    {
     "data": {
      "text/plain": [
       "DecisionTreeClassifier(class_weight=None, criterion='gini', max_depth=None,\n",
       "            max_features=None, max_leaf_nodes=None,\n",
       "            min_impurity_decrease=0.0, min_impurity_split=None,\n",
       "            min_samples_leaf=1, min_samples_split=2,\n",
       "            min_weight_fraction_leaf=0.0, presort=False, random_state=None,\n",
       "            splitter='best')"
      ]
     },
     "execution_count": 22,
     "metadata": {},
     "output_type": "execute_result"
    }
   ],
   "source": [
    "from sklearn.datasets import load_iris\n",
    "from sklearn import tree\n",
    "from sklearn.externals.six import StringIO\n",
    "import pydotplus\n",
    "\n",
    "iris = load_iris()\n",
    "clf = tree.DecisionTreeClassifier()\n",
    "clf = clf.fit(iris.data, iris.target)\n",
    "clf"
   ]
  },
  {
   "cell_type": "code",
   "execution_count": 26,
   "metadata": {},
   "outputs": [
    {
     "data": {
      "text/plain": [
       "{'DESCR': 'mldata.org dataset: mnist-original',\n",
       " 'COL_NAMES': ['label', 'data'],\n",
       " 'target': array([0., 0., 0., ..., 9., 9., 9.]),\n",
       " 'data': array([[0, 0, 0, ..., 0, 0, 0],\n",
       "        [0, 0, 0, ..., 0, 0, 0],\n",
       "        [0, 0, 0, ..., 0, 0, 0],\n",
       "        ...,\n",
       "        [0, 0, 0, ..., 0, 0, 0],\n",
       "        [0, 0, 0, ..., 0, 0, 0],\n",
       "        [0, 0, 0, ..., 0, 0, 0]], dtype=uint8)}"
      ]
     },
     "execution_count": 26,
     "metadata": {},
     "output_type": "execute_result"
    }
   ],
   "source": [
    "from sklearn.datasets import fetch_mldata\n",
    "from sklearn.neural_network import MLPClassifier\n",
    "\n",
    "mnist = fetch_mldata('MNIST original')\n",
    "mnist"
   ]
  },
  {
   "cell_type": "code",
   "execution_count": 46,
   "metadata": {},
   "outputs": [],
   "source": [
    "x,y = mnist.data /255., mnist.target"
   ]
  },
  {
   "cell_type": "code",
   "execution_count": 47,
   "metadata": {},
   "outputs": [],
   "source": [
    "x_train, x_test = x[:60000],x[60000:]\n",
    "y_train, y_test = y[:60000],y[60000:]"
   ]
  },
  {
   "cell_type": "code",
   "execution_count": 51,
   "metadata": {},
   "outputs": [
    {
     "name": "stdout",
     "output_type": "stream",
     "text": [
      "Iteration 1, loss = 0.32212731\n",
      "Iteration 2, loss = 0.15738787\n",
      "Iteration 3, loss = 0.11647274\n",
      "Iteration 4, loss = 0.09631113\n",
      "Iteration 5, loss = 0.08074513\n",
      "Iteration 6, loss = 0.07163224\n",
      "Iteration 7, loss = 0.06351392\n",
      "Iteration 8, loss = 0.05694146\n",
      "Iteration 9, loss = 0.05213487\n",
      "Iteration 10, loss = 0.04708320\n",
      "Iteration 11, loss = 0.04188246\n",
      "Iteration 12, loss = 0.03864420\n",
      "Iteration 13, loss = 0.03513415\n",
      "Iteration 14, loss = 0.03222310\n",
      "Iteration 15, loss = 0.02956183\n",
      "Iteration 16, loss = 0.02620840\n",
      "Iteration 17, loss = 0.02424569\n",
      "Iteration 18, loss = 0.02129204\n",
      "Iteration 19, loss = 0.02030622\n",
      "Iteration 20, loss = 0.01848272\n",
      "Iteration 21, loss = 0.01671861\n",
      "Iteration 22, loss = 0.01520329\n",
      "Iteration 23, loss = 0.01411466\n",
      "Iteration 24, loss = 0.01292346\n",
      "Iteration 25, loss = 0.01138195\n",
      "Iteration 26, loss = 0.00996422\n",
      "Iteration 27, loss = 0.00846271\n",
      "Iteration 28, loss = 0.00736762\n",
      "Iteration 29, loss = 0.00692193\n",
      "Iteration 30, loss = 0.00544863\n",
      "Iteration 31, loss = 0.00542354\n",
      "Iteration 32, loss = 0.00434346\n",
      "Iteration 33, loss = 0.00406843\n",
      "Iteration 34, loss = 0.00347360\n",
      "Iteration 35, loss = 0.00335075\n",
      "Iteration 36, loss = 0.00274222\n",
      "Iteration 37, loss = 0.00259019\n",
      "Iteration 38, loss = 0.00248061\n",
      "Iteration 39, loss = 0.00222207\n",
      "Iteration 40, loss = 0.00210958\n",
      "Iteration 41, loss = 0.00203355\n",
      "Iteration 42, loss = 0.00193593\n",
      "Iteration 43, loss = 0.00183349\n",
      "Iteration 44, loss = 0.00180691\n",
      "Iteration 45, loss = 0.00170914\n",
      "Iteration 46, loss = 0.00165378\n",
      "Training loss did not improve more than tol=0.000100 for two consecutive epochs. Stopping.\n"
     ]
    },
    {
     "data": {
      "text/plain": [
       "MLPClassifier(activation='relu', alpha=0.0001, batch_size='auto', beta_1=0.9,\n",
       "       beta_2=0.999, early_stopping=False, epsilon=1e-08,\n",
       "       hidden_layer_sizes=(50,), learning_rate='constant',\n",
       "       learning_rate_init=0.1, max_iter=60, momentum=0.9,\n",
       "       nesterovs_momentum=True, power_t=0.5, random_state=1, shuffle=True,\n",
       "       solver='sgd', tol=0.0001, validation_fraction=0.1, verbose=10,\n",
       "       warm_start=False)"
      ]
     },
     "execution_count": 51,
     "metadata": {},
     "output_type": "execute_result"
    }
   ],
   "source": [
    "mlp = MLPClassifier(hidden_layer_sizes=(50,), max_iter=60, alpha=1e-4, solver='sgd', verbose=10, tol=1e-4, random_state=1, learning_rate_init=.1)\n",
    "mlp.fit(x_train,y_train)"
   ]
  },
  {
   "cell_type": "code",
   "execution_count": 52,
   "metadata": {},
   "outputs": [
    {
     "name": "stdout",
     "output_type": "stream",
     "text": [
      "train set score :  1.0\n",
      "test set score :  0.9737\n"
     ]
    }
   ],
   "source": [
    "print('train set score : ',mlp.score(x_train, y_train))\n",
    "print('test set score : ',mlp.score(x_test,y_test))"
   ]
  },
  {
   "cell_type": "code",
   "execution_count": 65,
   "metadata": {},
   "outputs": [
    {
     "data": {
      "text/plain": [
       "<matplotlib.collections.PathCollection at 0x288001d5f98>"
      ]
     },
     "execution_count": 65,
     "metadata": {},
     "output_type": "execute_result"
    },
    {
     "data": {
      "image/png": "[encoded data removed]",
      "text/plain": [
       "<Figure size 432x288 with 1 Axes>"
      ]
     },
     "metadata": {},
     "output_type": "display_data"
    }
   ],
   "source": [
    "from sklearn.cluster import KMeans\n",
    "\n",
    "iris = datasets.load_iris()\n",
    "x,y = iris.data[:,2:4], iris.target\n",
    "\n",
    "x.shape, x\n",
    "\n",
    "est = KMeans(n_clusters=3)\n",
    "est.fit(x)\n",
    "est\n",
    "labels = est.labels_\n",
    "labels\n",
    "\n",
    "plt.scatter(x[:,0],x[:,1],c=labels)"
   ]
  },
  {
   "cell_type": "code",
   "execution_count": 62,
   "metadata": {},
   "outputs": [
    {
     "data": {
      "text/plain": [
       "array([1, 1, 1, 1, 1, 1, 1, 1, 1, 1, 1, 1, 1, 1, 1, 1, 1, 1, 1, 1, 1, 1,\n",
       "       1, 1, 1, 1, 1, 1, 1, 1, 1, 1, 1, 1, 1, 1, 1, 1, 1, 1, 1, 1, 1, 1,\n",
       "       1, 1, 1, 1, 1, 1, 2, 2, 2, 2, 2, 2, 2, 2, 2, 2, 2, 2, 2, 2, 2, 2,\n",
       "       2, 2, 2, 2, 2, 2, 2, 2, 2, 2, 2, 0, 2, 2, 2, 2, 2, 0, 2, 2, 2, 2,\n",
       "       2, 2, 2, 2, 2, 2, 2, 2, 2, 2, 2, 2, 0, 0, 0, 0, 0, 0, 2, 0, 0, 0,\n",
       "       0, 0, 0, 0, 0, 0, 0, 0, 0, 2, 0, 0, 0, 0, 0, 0, 2, 0, 0, 0, 0, 0,\n",
       "       0, 0, 0, 0, 0, 0, 2, 0, 0, 0, 0, 0, 0, 0, 0, 0, 0, 0])"
      ]
     },
     "execution_count": 62,
     "metadata": {},
     "output_type": "execute_result"
    }
   ],
   "source": [
    "est.labels_"
   ]
  }
 ],
 "metadata": {
  "kernelspec": {
   "display_name": "Python 3",
   "language": "python",
   "name": "python3"
  },
  "language_info": {
   "codemirror_mode": {
    "name": "ipython",
    "version": 3
   },
   "file_extension": ".py",
   "mimetype": "text/x-python",
   "name": "python",
   "nbconvert_exporter": "python",
   "pygments_lexer": "ipython3",
   "version": "3.6.5"
  }
 },
 "nbformat": 4,
 "nbformat_minor": 2
}

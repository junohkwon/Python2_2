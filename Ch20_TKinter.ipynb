{
 "cells": [
  {
   "cell_type": "code",
   "execution_count": 2,
   "metadata": {},
   "outputs": [],
   "source": [
    "from tkinter import *"
   ]
  },
  {
   "cell_type": "code",
   "execution_count": 2,
   "metadata": {},
   "outputs": [
    {
     "name": "stdout",
     "output_type": "stream",
     "text": [
      "bye!\n"
     ]
    }
   ],
   "source": [
    "def draw(canvas, width, height):\n",
    "    canvas.create_rectangle(0,0,150,150, fill='yellow')\n",
    "    canvas.create_rectangle(100,50,250,100, fill='orange', width=5)\n",
    "    canvas.create_rectangle(50,100,150,200, fill='green', outline='red', width=3)\n",
    "    canvas.create_rectangle(125,25,175,190, fill='purple', width=0)\n",
    "\n",
    "def rgbString(red, green, blue):\n",
    "    return \"#%02x%02x%02x\"%(red,green,blue)\n",
    "    \n",
    "def runDrawing(width=300, height=300):\n",
    "    root = Tk()\n",
    "    canvas = Canvas(root, width=width, height=height)\n",
    "    canvas.pack()\n",
    "    draw(canvas, width, height)\n",
    "    root.mainloop()\n",
    "    print('bye!')\n",
    "\n",
    "runDrawing(400,200)"
   ]
  },
  {
   "cell_type": "code",
   "execution_count": 3,
   "metadata": {},
   "outputs": [
    {
     "name": "stdout",
     "output_type": "stream",
     "text": [
      "bye!\n"
     ]
    }
   ],
   "source": [
    "def draw(canvas, width, height):\n",
    "    margin=10\n",
    "    canvas.create_rectangle(margin, margin, width-margin, height-margin, fill='darkGreen')\n",
    "    \n",
    "    (cx,cy) = (width/2, height/2)\n",
    "    (rectwidth, rectheight) = (width/4, height/4)\n",
    "    \n",
    "    canvas.create_rectangle(cx-rectwidth/2, cy-rectheight/2, cx+rectwidth/2, cy+rectheight/2, fill='orange')\n",
    "\n",
    "def runDrawing(width=300, height=300):\n",
    "    root = Tk()\n",
    "    canvas = Canvas(root, width=width, height=height)\n",
    "    canvas.pack()\n",
    "    draw(canvas, width, height)\n",
    "    root.mainloop()\n",
    "    print('bye!')\n",
    "    \n",
    "runDrawing(400,200)    "
   ]
  },
  {
   "cell_type": "code",
   "execution_count": 4,
   "metadata": {},
   "outputs": [
    {
     "name": "stdout",
     "output_type": "stream",
     "text": [
      "bye!\n"
     ]
    }
   ],
   "source": [
    "def draw(canvas, width, height):\n",
    "    pistachio = rgbString(147,197,114)\n",
    "    maroon = rgbString(176,48,96)\n",
    "    canvas.create_rectangle(0,0,width/2, height/2, fill=pistachio)\n",
    "    canvas.create_rectangle(width/2, height/2, width, height, fill=maroon)\n",
    "\n",
    "def rgbString(red, green, blue):\n",
    "    return \"#%02x%02x%02x\"%(red,green,blue)\n",
    "    \n",
    "def runDrawing(width=300, height=300):\n",
    "    root = Tk()\n",
    "    canvas = Canvas(root, width=width, height=height)\n",
    "    canvas.pack()\n",
    "    draw(canvas, width, height)\n",
    "    root.mainloop()\n",
    "    print('bye!')\n",
    "    \n",
    "runDrawing(400,200)    "
   ]
  },
  {
   "cell_type": "code",
   "execution_count": 5,
   "metadata": {},
   "outputs": [
    {
     "name": "stdout",
     "output_type": "stream",
     "text": [
      "bye!\n"
     ]
    }
   ],
   "source": [
    "def draw(canvas, width, height):\n",
    "    canvas.create_oval(100,50,300,150, fill='yellow')\n",
    "    canvas.create_polygon(100,30,200,50,300,30,200,10, fill='green')\n",
    "    canvas.create_line(100,50,300,150, fill='red', width=5)\n",
    "    canvas.create_text(200,100, text='Amazing!', fill='purple', font='Helvetica 26 bold underline')\n",
    "    canvas.create_text(200,100, text='Carpe Diem!', anchor=SW, fill='darkBlue', font='Times 28 bold italic')\n",
    "    \n",
    "def rgbString(red, green, blue):\n",
    "    return \"#%02x%02x%02x\"%(red,green,blue)\n",
    "    \n",
    "def runDrawing(width=300, height=300):\n",
    "    root = Tk()\n",
    "    canvas = Canvas(root, width=width, height=height)\n",
    "    canvas.pack()\n",
    "    draw(canvas, width, height)\n",
    "    root.mainloop()\n",
    "    print('bye!')\n",
    "    \n",
    "runDrawing(400,200)  "
   ]
  },
  {
   "cell_type": "code",
   "execution_count": 6,
   "metadata": {},
   "outputs": [
    {
     "name": "stdout",
     "output_type": "stream",
     "text": [
      "bye!\n"
     ]
    }
   ],
   "source": [
    "def drawBelgianFlag(canvas, x0, y0, x1, y1):\n",
    "    width = (x1-x0)\n",
    "    canvas.create_rectangle(x0, y0, x0+width/3, y1, fill='black', width=0)\n",
    "    canvas.create_rectangle(x0+width/3, y0, x0+width*2/3, y1, fill='yellow', width=0)\n",
    "    canvas.create_rectangle(x0+width*2/3, y0, x1, y1, fill='red', width=0)\n",
    "\n",
    "def draw(canvas, width, height):\n",
    "    drawBelgianFlag(canvas, 25,25,175,150)\n",
    "    drawBelgianFlag(canvas, 75,160,125,200)\n",
    "    \n",
    "    flagwidth=30\n",
    "    flagheight=25\n",
    "    margin=5\n",
    "    for row in range(4):\n",
    "        for col in range(6):\n",
    "            left = 200 + col * flagwidth + margin\n",
    "            top = 50 + row * flagheight + margin\n",
    "            right = left + flagwidth - margin\n",
    "            bottom = top + flagheight - margin\n",
    "            \n",
    "            drawBelgianFlag(canvas, left, top, right, bottom)\n",
    "    \n",
    "def runDrawing(width=300, height=300):\n",
    "    root = Tk()\n",
    "    canvas = Canvas(root, width=width, height=height)\n",
    "    canvas.pack()\n",
    "    draw(canvas, width, height)\n",
    "    root.mainloop()\n",
    "    print('bye!')\n",
    "    \n",
    "runDrawing(400,200) "
   ]
  },
  {
   "cell_type": "code",
   "execution_count": 7,
   "metadata": {},
   "outputs": [
    {
     "name": "stdout",
     "output_type": "stream",
     "text": [
      "bye!\n"
     ]
    }
   ],
   "source": [
    "import math\n",
    "\n",
    "def draw(canvas, width, height):\n",
    "    (cx, cy, r) = (width/2, height/2, min(width,height)/2.5)\n",
    "    canvas.create_oval(cx-r, cy-r, cx+r, cy+r, fill='yellow')\n",
    "    r *= 0.85\n",
    "    for hour in range(12):\n",
    "        hourAngle = math.pi/2 - (2*math.pi)*(hour/12)\n",
    "        hourx = cx+r*math.cos(hourAngle)\n",
    "        houry = cy-r*math.sin(hourAngle)\n",
    "        label = str(hour if (hour>0) else 12)\n",
    "        canvas.create_text(hourx, houry, text=label, font=\"Arial 12 bold\")\n",
    "\n",
    "def runDrawing(width=300, height=300):\n",
    "    root = Tk()\n",
    "    canvas = Canvas(root, width=width, height=height)\n",
    "    canvas.pack()\n",
    "    draw(canvas, width, height)\n",
    "    root.mainloop()\n",
    "    print('bye!')\n",
    "    \n",
    "runDrawing(400,200) "
   ]
  },
  {
   "cell_type": "code",
   "execution_count": 8,
   "metadata": {},
   "outputs": [
    {
     "name": "stdout",
     "output_type": "stream",
     "text": [
      "bye!\n"
     ]
    }
   ],
   "source": [
    "def runDrawing(width=300, height=300):\n",
    "    root = Tk()\n",
    "    \n",
    "    frame = Frame(root)\n",
    "    frame.pack()\n",
    "    \n",
    "    bottomframe = Frame(root)\n",
    "    bottomframe.pack(side=BOTTOM)\n",
    "    \n",
    "    redbutton = Button(frame, text='Red', fg='red')\n",
    "    redbutton.pack()\n",
    "    \n",
    "    greenbutton = Button(frame, text='Brown', fg='brown')\n",
    "    greenbutton.pack(side=LEFT)\n",
    "    \n",
    "    bluebutton = Button(frame, text=\"Blue\", fg='blue')\n",
    "    bluebutton.pack(side=LEFT)\n",
    "    \n",
    "    blackbutton = Button(bottomframe, text='Black', fg='black')\n",
    "    blackbutton.pack(side=BOTTOM)\n",
    "\n",
    "    root.mainloop()\n",
    "    print('bye!')\n",
    "    \n",
    "runDrawing(400,200) "
   ]
  },
  {
   "cell_type": "code",
   "execution_count": 9,
   "metadata": {},
   "outputs": [],
   "source": [
    "root = Tk()\n",
    "\n",
    "w = Label(root, text=\"이름을 입력하세요\", height=2, bg='red')\n",
    "w.grid(row=1, column=1)\n",
    "\n",
    "tBox = Entry(root)\n",
    "tBox.grid(row=2, column=2, padx=10)\n",
    "\n",
    "root.mainloop()\n"
   ]
  },
  {
   "cell_type": "code",
   "execution_count": 4,
   "metadata": {},
   "outputs": [
    {
     "name": "stdout",
     "output_type": "stream",
     "text": [
      "this is single click event\n",
      "this is single click event\n",
      "this is double key event\n"
     ]
    },
    {
     "ename": "SystemExit",
     "evalue": "",
     "output_type": "error",
     "traceback": [
      "An exception has occurred, use %tb to see the full traceback.\n",
      "\u001b[1;31mSystemExit\u001b[0m\n"
     ]
    },
    {
     "name": "stderr",
     "output_type": "stream",
     "text": [
      "C:\\Anaconda3\\lib\\site-packages\\IPython\\core\\interactiveshell.py:2971: UserWarning: To exit: use 'exit', 'quit', or Ctrl-D.\n",
      "  warn(\"To exit: use 'exit', 'quit', or Ctrl-D.\", stacklevel=1)\n"
     ]
    }
   ],
   "source": [
    "import sys\n",
    "root = Tk()\n",
    "\n",
    "def hello(event):\n",
    "    print('this is single click event')\n",
    "\n",
    "def quit(event):\n",
    "    print('this is double key event')    \n",
    "    sys.exit()\n",
    "    \n",
    "wbtn = Button(root, text=\"Mouse Clicks\")\n",
    "wbtn.pack()\n",
    "\n",
    "wbtn.bind('<Button-1>',hello)\n",
    "wbtn.bind('<Double-Button-1>',quit)\n",
    "\n",
    "\n",
    "root.mainloop()"
   ]
  },
  {
   "cell_type": "code",
   "execution_count": 4,
   "metadata": {},
   "outputs": [],
   "source": [
    "from tkinter import *\n",
    "\n",
    "lastx, lasty = 0,0\n",
    "\n",
    "def xy(event):\n",
    "    global lastx, lasty\n",
    "    lastx, lasty = event.x, event.y\n",
    "    \n",
    "def addLine(event):\n",
    "    global lastx, lasty\n",
    "    canvas.create_line((lastx, lasty, event.x, event.y))\n",
    "    lastx, lasty = event.x, event.y\n",
    "\n",
    "\n",
    "root = Tk()\n",
    "root.columnconfigure(0, weight=1)\n",
    "root.rowconfigure(0, weight=1)\n",
    "\n",
    "canvas = Canvas(root)\n",
    "canvas.grid(column=0, row=0, sticky=(N,W,E,S))\n",
    "canvas.bind('<Button-1>',xy)\n",
    "canvas.bind('<B1-Motion>',addLine)\n",
    "\n",
    "root.mainloop()"
   ]
  }
 ],
 "metadata": {
  "kernelspec": {
   "display_name": "Python 3",
   "language": "python",
   "name": "python3"
  },
  "language_info": {
   "codemirror_mode": {
    "name": "ipython",
    "version": 3
   },
   "file_extension": ".py",
   "mimetype": "text/x-python",
   "name": "python",
   "nbconvert_exporter": "python",
   "pygments_lexer": "ipython3",
   "version": "3.6.5"
  }
 },
 "nbformat": 4,
 "nbformat_minor": 2
}

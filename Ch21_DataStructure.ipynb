{
 "cells": [
  {
   "cell_type": "code",
   "execution_count": 4,
   "metadata": {},
   "outputs": [
    {
     "data": {
      "text/plain": [
       "['john']"
      ]
     },
     "execution_count": 4,
     "metadata": {},
     "output_type": "execute_result"
    }
   ],
   "source": [
    "class Stack:\n",
    "    def __init__(self):\n",
    "        self.items = []\n",
    "    def push(self,item):\n",
    "        self.items.append(item)\n",
    "    def pop(self):\n",
    "        return self.items.pop()\n",
    "    def isEmpty(self):\n",
    "        if self.items == []:\n",
    "            return True\n",
    "        else:\n",
    "            return False\n",
    "    def peak(self):\n",
    "        return self.items[len(self.items)-1]\n",
    "\n",
    "myStack = Stack()\n",
    "myStack.push('john')\n",
    "myStack.push('kim')\n",
    "myStack.peak()\n",
    "myStack.pop()\n",
    "myStack.items"
   ]
  },
  {
   "cell_type": "code",
   "execution_count": 10,
   "metadata": {},
   "outputs": [],
   "source": [
    "import queue\n",
    "\n",
    "a = queue.Queue(5)\n",
    "b = queue.Queue(3)\n",
    "\n",
    "a.put(1)\n",
    "a.put('python')\n",
    "a.put(b)\n",
    "\n",
    "b.put(3)\n",
    "\n",
    "a.get()\n",
    "b.get()"
   ]
  },
  {
   "cell_type": "code",
   "execution_count": 2,
   "metadata": {},
   "outputs": [
    {
     "data": {
      "text/plain": [
       "deque(['a', 'b', 'd', 'e', 'f', 'g'])"
      ]
     },
     "execution_count": 2,
     "metadata": {},
     "output_type": "execute_result"
    }
   ],
   "source": [
    "import collections\n",
    "\n",
    "d = collections.deque('abcdefg')\n",
    "\n",
    "d.remove('c')\n",
    "\n",
    "d"
   ]
  }
 ],
 "metadata": {
  "kernelspec": {
   "display_name": "Python 3",
   "language": "python",
   "name": "python3"
  },
  "language_info": {
   "codemirror_mode": {
    "name": "ipython",
    "version": 3
   },
   "file_extension": ".py",
   "mimetype": "text/x-python",
   "name": "python",
   "nbconvert_exporter": "python",
   "pygments_lexer": "ipython3",
   "version": "3.6.5"
  }
 },
 "nbformat": 4,
 "nbformat_minor": 2
}
